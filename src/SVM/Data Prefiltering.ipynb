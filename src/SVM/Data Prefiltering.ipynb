{
  "nbformat": 4,
  "nbformat_minor": 0,
  "metadata": {
    "kernelspec": {
      "display_name": "Python 3",
      "language": "python",
      "name": "python3"
    },
    "language_info": {
      "codemirror_mode": {
        "name": "ipython",
        "version": 3
      },
      "file_extension": ".py",
      "mimetype": "text/x-python",
      "name": "python",
      "nbconvert_exporter": "python",
      "pygments_lexer": "ipython3",
      "version": "3.8.5"
    },
    "colab": {
      "name": "1 - SVM Data Prefiltering.ipynb",
      "provenance": [],
      "include_colab_link": true
    }
  },
  "cells": [
    {
      "cell_type": "markdown",
      "metadata": {
        "id": "view-in-github",
        "colab_type": "text"
      },
      "source": [
        "<a href=\"https://colab.research.google.com/github/DavinciB/child_grooming_detector/blob/main/src/SVM/Data%20Prefiltering.ipynb\" target=\"_parent\"><img src=\"https://colab.research.google.com/assets/colab-badge.svg\" alt=\"Open In Colab\"/></a>"
      ]
    },
    {
      "cell_type": "code",
      "metadata": {
        "id": "3mC1iDS4UruT",
        "colab": {
          "base_uri": "https://localhost:8080/"
        },
        "outputId": "5fe2d0bd-ab1e-4c11-e516-3f7fd3216cef"
      },
      "source": [
        "from google.colab import drive\n",
        "drive.mount('/content/drive')"
      ],
      "execution_count": null,
      "outputs": [
        {
          "output_type": "stream",
          "text": [
            "Drive already mounted at /content/drive; to attempt to forcibly remount, call drive.mount(\"/content/drive\", force_remount=True).\n"
          ],
          "name": "stdout"
        }
      ]
    },
    {
      "cell_type": "code",
      "metadata": {
        "id": "GzJRSXMpCxtE"
      },
      "source": [
        "import xml.etree.ElementTree as ET #for parsing the xml file to a tree\n",
        "import datetime\n",
        "#store the path to the folder containing the training data\n",
        "train_data_path = r\"/content/drive/MyDrive/online-grooming-detector-master/data/pan12-sexual-predator-identification-training-corpus-2012-05-01\"\n",
        "#parse the training data xml file\n",
        "training_xml = ET.parse(train_data_path + '/pan12-sexual-predator-identification-training-corpus-2012-05-01.xml')\n",
        "#obtain the root of the tree we created above\n",
        "root = training_xml.getroot()        \n"
      ],
      "execution_count": null,
      "outputs": []
    },
    {
      "cell_type": "code",
      "metadata": {
        "id": "JO6qjF6MYHnW"
      },
      "source": [
        "#Adding index attribute to conversations and changing line attributes of messages for ease of pre processing\n",
        "i = 0\n",
        "for conversation in root:\n",
        "  conversation.set('index',i)   #adding an index value to each conversation in the tree\n",
        "  i += 1\n",
        "for conversation in root:\n",
        "  i = 0\n",
        "  for message in conversation:\n",
        "    message.set('line',i) #changing the line value of each messsage in all conversation to be in ordered form\n",
        "    i += 1"
      ],
      "execution_count": null,
      "outputs": []
    },
    {
      "cell_type": "code",
      "metadata": {
        "id": "0RmH8mmvcT6C",
        "colab": {
          "base_uri": "https://localhost:8080/"
        },
        "outputId": "aba45305-c192-471c-c267-45d0525ff202"
      },
      "source": [
        "#Before removing single author conversations\n",
        "print(root[1][0][2].text)"
      ],
      "execution_count": null,
      "outputs": [
        {
          "output_type": "stream",
          "text": [
            "asuu\n"
          ],
          "name": "stdout"
        }
      ]
    },
    {
      "cell_type": "code",
      "metadata": {
        "id": "0MQSBEUgCxtP",
        "colab": {
          "base_uri": "https://localhost:8080/"
        },
        "outputId": "df53ff98-b5f3-488e-e44a-1b9a2efc8d8e"
      },
      "source": [
        "#single author \n",
        "conv_2_remove = [] #list to store the conversation id of conversations to be removed\n",
        "authors = [] #list of unique authors in each conversations\n",
        "init_len = len(root)\n",
        "\n",
        "for conversation in root:\n",
        "    authors.clear()\n",
        "    for message in conversation:\n",
        "        author = message.find('author').text\n",
        "        if author not in authors:\n",
        "            authors.append(author)\n",
        "\n",
        "    if (len(authors)) <= 1 and conversation.get('id') not in conv_2_remove:\n",
        "        conv_2_remove.append(conversation.get('id'))\n",
        "\n",
        "print(str(len(conv_2_remove))+\" out of \"+str(init_len)+\" conversations contain single user\")\n",
        "sing_user = len(conv_2_remove)"
      ],
      "execution_count": null,
      "outputs": [
        {
          "output_type": "stream",
          "text": [
            "12773 out of 66927 conversations contain single user\n"
          ],
          "name": "stdout"
        }
      ]
    },
    {
      "cell_type": "code",
      "metadata": {
        "id": "ddbYioh7dJdi",
        "colab": {
          "base_uri": "https://localhost:8080/"
        },
        "outputId": "57d65ffc-13ca-40c9-86c0-05cdb7dc87f5"
      },
      "source": [
        "#Before removing low message count conversations\n",
        "print(root[2][0][2].text)"
      ],
      "execution_count": null,
      "outputs": [
        {
          "output_type": "stream",
          "text": [
            "hi\n"
          ],
          "name": "stdout"
        }
      ]
    },
    {
      "cell_type": "code",
      "metadata": {
        "id": "VESbeXdeCxtY",
        "colab": {
          "base_uri": "https://localhost:8080/"
        },
        "outputId": "095a9429-184a-4be1-8870-4888b396191e"
      },
      "source": [
        "#Each user having 5 or less messages\n",
        "for conversation in root:\n",
        "    if conversation.get('id') in conv_2_remove:\n",
        "        continue\n",
        "    authors = {}\n",
        "    for message in conversation:\n",
        "        author = message.find('author').text\n",
        "        if author in authors:\n",
        "            authors[author] = authors[author] + 1\n",
        "        else:\n",
        "            authors[author] = 1\n",
        "    remove = True\n",
        "    for author in authors:\n",
        "        if authors[author] > 5:\n",
        "            remove = False\n",
        "    if remove is True and conversation.get('id') not in conv_2_remove:\n",
        "        conv_2_remove.append(conversation.get('id'))\n",
        "low_msg_count = len(conv_2_remove) - sing_user\n",
        "print(str(low_msg_count)+\" out of \"+str(init_len)+\" conversations have low message count\")"
      ],
      "execution_count": null,
      "outputs": [
        {
          "output_type": "stream",
          "text": [
            "39054 out of 66927 conversations have low message count\n"
          ],
          "name": "stdout"
        }
      ]
    },
    {
      "cell_type": "code",
      "metadata": {
        "id": "iIvPfFUBCxtj",
        "colab": {
          "base_uri": "https://localhost:8080/"
        },
        "outputId": "dff7bb7d-c997-489f-936d-2fc7f117de1f"
      },
      "source": [
        "for conversation in root.findall('conversation'):\n",
        "    if conversation.get('id') in conv_2_remove:\n",
        "        root.remove(conversation)\n",
        "print(\"The new root has a length of \" + str(len(root)))\n",
        "print(str(init_len - len(root))+\" conversations removed\")"
      ],
      "execution_count": null,
      "outputs": [
        {
          "output_type": "stream",
          "text": [
            "The new root has a length of15100\n",
            "51827 conversations removed\n"
          ],
          "name": "stdout"
        }
      ]
    },
    {
      "cell_type": "code",
      "metadata": {
        "id": "w_W2fZvIimXy"
      },
      "source": [
        "#Adding index attribute to conversations and changing line attributes of messages\n",
        "i = 0\n",
        "for conversation in root:\n",
        "  conversation.set('index',i)   \n",
        "  i += 1\n",
        "for conversation in root:\n",
        "  i = 0\n",
        "  for message in conversation:\n",
        "    message.set('line',i)\n",
        "    i += 1"
      ],
      "execution_count": null,
      "outputs": []
    },
    {
      "cell_type": "code",
      "metadata": {
        "colab": {
          "base_uri": "https://localhost:8080/"
        },
        "id": "SsYl3arrdaFi",
        "outputId": "a787dce1-d03b-4f65-f66b-4b2e21550cc6"
      },
      "source": [
        "#After removing single author conversations\n",
        "print(root[1][0][2].text)"
      ],
      "execution_count": null,
      "outputs": [
        {
          "output_type": "stream",
          "text": [
            "happy is ayuppie word.\n"
          ],
          "name": "stdout"
        }
      ]
    },
    {
      "cell_type": "code",
      "metadata": {
        "id": "UuqtEGHRj4sw",
        "colab": {
          "base_uri": "https://localhost:8080/"
        },
        "outputId": "066981ae-1b67-460d-c56e-e54a830cb1a6"
      },
      "source": [
        "#Afetr removing low message count conversations\n",
        "print(root[2][0][2].text)"
      ],
      "execution_count": null,
      "outputs": [
        {
          "output_type": "stream",
          "text": [
            "hi\n"
          ],
          "name": "stdout"
        }
      ]
    },
    {
      "cell_type": "code",
      "metadata": {
        "id": "z9pPGWvSCxte",
        "colab": {
          "base_uri": "https://localhost:8080/"
        },
        "outputId": "04b3ebaf-35d1-4384-c6c1-bba8ef8fb119"
      },
      "source": [
        "#Removing sequences of meaningless characters\n",
        "import re\n",
        "messages = []\n",
        "count = 0\n",
        "for conversation in root:\n",
        "  messages.clear()\n",
        "  conv = conversation.get('id')\n",
        "  index = conversation.get('index')\n",
        "  for message in conversation:\n",
        "    text = message.find(\"text\").text\n",
        "    if text is None or len(text) < 20:\n",
        "      continue\n",
        "    match_str = re.findall(\"[\\W_]\", text)\n",
        "    if len(match_str) / len(text) > 0.6:\n",
        "      line = message.get('line')\n",
        "      messages.append(int(line))\n",
        "    for i in reversed(messages):\n",
        "      try:\n",
        "        root[int(index)].remove(root[int(index)][i])\n",
        "        count += 1\n",
        "      except:\n",
        "        continue\n",
        "print(str(count)+\" messages has been removed\")"
      ],
      "execution_count": null,
      "outputs": [
        {
          "output_type": "stream",
          "text": [
            "4484 messages has been removed\n"
          ],
          "name": "stdout"
        }
      ]
    },
    {
      "cell_type": "code",
      "metadata": {
        "id": "Ts1OsgtUaSNF"
      },
      "source": [
        "#Removing index and updating line attributes to str else it gives errror\n",
        "#during converting to xml\n",
        "for i in range(len(root)):\n",
        "  root[i].attrib.pop('index') \n",
        "for conversation in root:\n",
        "  i = 1\n",
        "  for message in conversation:\n",
        "    message.set('line',str(i))\n",
        "    i += 1"
      ],
      "execution_count": null,
      "outputs": []
    },
    {
      "cell_type": "code",
      "metadata": {
        "id": "ezeUIf2DCxtm",
        "colab": {
          "base_uri": "https://localhost:8080/"
        },
        "outputId": "deffcb39-90f5-431d-fcc6-821e71f9b6e6"
      },
      "source": [
        "from xml.etree.ElementTree import ElementTree,tostring\n",
        "tree = ElementTree(root)\n",
        "tree.write(open(r'/content/drive/MyDrive/online-grooming-detector-master/data/svm_training_data/training_data.xml', 'wb'))\n",
        "print(\"Filtered data written!\")\n"
      ],
      "execution_count": null,
      "outputs": [
        {
          "output_type": "stream",
          "text": [
            "Filtered data written!\n"
          ],
          "name": "stdout"
        }
      ]
    }
  ]
}
{
 "cells": [
  {
   "cell_type": "code",
   "execution_count": null,
   "metadata": {
    "colab": {
     "base_uri": "https://localhost:8080/"
    },
    "id": "3mC1iDS4UruT",
    "outputId": "5fe2d0bd-ab1e-4c11-e516-3f7fd3216cef"
   },
   "outputs": [
    {
     "name": "stdout",
     "output_type": "stream",
     "text": [
      "Drive already mounted at /content/drive; to attempt to forcibly remount, call drive.mount(\"/content/drive\", force_remount=True).\n"
     ]
    }
   ],
   "source": [
    "from google.colab import drive\n",
    "drive.mount('/content/drive')"
   ]
  },
  {
   "cell_type": "code",
   "execution_count": null,
   "metadata": {
    "id": "GzJRSXMpCxtE"
   },
   "outputs": [],
   "source": [
    "import xml.etree.ElementTree as ET #for parsing the xml file to a tree\n",
    "import datetime\n",
    "#store the path to the folder containing the training data\n",
    "train_data_path = r\"/content/drive/MyDrive/online-grooming-detector-master/data/pan12-sexual-predator-identification-training-corpus-2012-05-01\"\n",
    "#parse the training data xml file\n",
    "training_xml = ET.parse(train_data_path + '/pan12-sexual-predator-identification-training-corpus-2012-05-01.xml')\n",
    "#obtain the root of the tree we created above\n",
    "root = training_xml.getroot()        \n"
   ]
  },
  {
   "cell_type": "code",
   "execution_count": null,
   "metadata": {
    "id": "JO6qjF6MYHnW"
   },
   "outputs": [],
   "source": [
    "#Adding index attribute to conversations and changing line attributes of messages for ease of pre processing\n",
    "i = 0\n",
    "for conversation in root:\n",
    "  conversation.set('index',i)   #adding an index value to each conversation in the tree\n",
    "  i += 1\n",
    "for conversation in root:\n",
    "  i = 0\n",
    "  for message in conversation:\n",
    "    message.set('line',i) #changing the line value of each messsage in all conversation to be in ordered form\n",
    "    i += 1"
   ]
  },
  {
   "cell_type": "code",
   "execution_count": null,
   "metadata": {
    "colab": {
     "base_uri": "https://localhost:8080/"
    },
    "id": "0RmH8mmvcT6C",
    "outputId": "aba45305-c192-471c-c267-45d0525ff202"
   },
   "outputs": [
    {
     "name": "stdout",
     "output_type": "stream",
     "text": [
      "asuu\n"
     ]
    }
   ],
   "source": [
    "#Before removing single author conversations\n",
    "print(root[1][0][2].text)"
   ]
  },
  {
   "cell_type": "code",
   "execution_count": null,
   "metadata": {
    "colab": {
     "base_uri": "https://localhost:8080/"
    },
    "id": "0MQSBEUgCxtP",
    "outputId": "df53ff98-b5f3-488e-e44a-1b9a2efc8d8e"
   },
   "outputs": [
    {
     "name": "stdout",
     "output_type": "stream",
     "text": [
      "12773 out of 66927 conversations contain single user\n"
     ]
    }
   ],
   "source": [
    "#single author \n",
    "conv_2_remove = [] #list to store the conversation id of conversations to be removed\n",
    "authors = [] #list of unique authors in each conversations\n",
    "init_len = len(root) #initial no of conversations\n",
    "\n",
    "for conversation in root:\n",
    "    authors.clear() #clear the authors list before going through each conversation\n",
    "    for message in conversation: #taking individual messages in each conversation\n",
    "        author = message.find('author').text #finding the author of the message\n",
    "        if author not in authors: #if the author is not present in the list\n",
    "            authors.append(author) #append if not\n",
    "\n",
    "    if (len(authors)) <= 1 and conversation.get('id') not in conv_2_remove: #if no of authers less than 1 and conversatio id already not present in conv_2_remove\n",
    "        conv_2_remove.append(conversation.get('id')) #append to the list if not\n",
    "\n",
    "print(str(len(conv_2_remove))+\" out of \"+str(init_len)+\" conversations contain single user\")\n",
    "sing_user = len(conv_2_remove) #no of single user conversations"
   ]
  },
  {
   "cell_type": "code",
   "execution_count": null,
   "metadata": {
    "colab": {
     "base_uri": "https://localhost:8080/"
    },
    "id": "ddbYioh7dJdi",
    "outputId": "57d65ffc-13ca-40c9-86c0-05cdb7dc87f5"
   },
   "outputs": [
    {
     "name": "stdout",
     "output_type": "stream",
     "text": [
      "hi\n"
     ]
    }
   ],
   "source": [
    "#Before removing low message count conversations\n",
    "print(root[2][0][2].text)"
   ]
  },
  {
   "cell_type": "code",
   "execution_count": null,
   "metadata": {
    "colab": {
     "base_uri": "https://localhost:8080/"
    },
    "id": "VESbeXdeCxtY",
    "outputId": "095a9429-184a-4be1-8870-4888b396191e"
   },
   "outputs": [
    {
     "name": "stdout",
     "output_type": "stream",
     "text": [
      "39054 out of 66927 conversations have low message count\n"
     ]
    }
   ],
   "source": [
    "#Each user having 5 or less messages\n",
    "for conversation in root: #taaking the conversation on at a time\n",
    "    if conversation.get('id') in conv_2_remove: #check if id of conversation already present in conv_2_remove\n",
    "        continue #skipping if true\n",
    "    authors = {} #python dictionary of authors\n",
    "    for message in conversation: #checking the author of each message in a conversation\n",
    "        author = message.find('author').text\n",
    "        if author in authors: #if present inrement the value\n",
    "            authors[author] = authors[author] + 1\n",
    "        else: #new author store the initial value as 1\n",
    "            authors[author] = 1\n",
    "    remove = True #initialize remove flag as true\n",
    "    for author in authors:\n",
    "        if authors[author] > 5:# checking if any auther have more than 5 messages if no single user have morethan 5 messages the conversation is removed\n",
    "            remove = False #set flag faslse\n",
    "    if remove is True and conversation.get('id') not in conv_2_remove: #check if flag true and conversation id not in list\n",
    "        conv_2_remove.append(conversation.get('id')) #apppend if true\n",
    "low_msg_count = len(conv_2_remove) - sing_user\n",
    "print(str(low_msg_count)+\" out of \"+str(init_len)+\" conversations have low message count\")"
   ]
  },
  {
   "cell_type": "code",
   "execution_count": null,
   "metadata": {
    "colab": {
     "base_uri": "https://localhost:8080/"
    },
    "id": "iIvPfFUBCxtj",
    "outputId": "dff7bb7d-c997-489f-936d-2fc7f117de1f"
   },
   "outputs": [
    {
     "name": "stdout",
     "output_type": "stream",
     "text": [
      "The new root has a length of15100\n",
      "51827 conversations removed\n"
     ]
    }
   ],
   "source": [
    "for conversation in root.findall('conversation'): #finds all the children of root having conversation tag ie. the conversations\n",
    "    if conversation.get('id') in conv_2_remove: #if conversation id in list to be removed\n",
    "        root.remove(conversation) #remove the child\n",
    "print(\"The new root has a length of \" + str(len(root)))\n",
    "print(str(init_len - len(root))+\" conversations removed\")"
   ]
  },
  {
   "cell_type": "code",
   "execution_count": null,
   "metadata": {
    "id": "w_W2fZvIimXy"
   },
   "outputs": [],
   "source": [
    "#resetting index attribute to conversations and changing line attributes of messages\n",
    "i = 0\n",
    "for conversation in root:\n",
    "  conversation.set('index',i)   \n",
    "  i += 1\n",
    "for conversation in root:\n",
    "  i = 0\n",
    "  for message in conversation:\n",
    "    message.set('line',i)\n",
    "    i += 1"
   ]
  },
  {
   "cell_type": "code",
   "execution_count": null,
   "metadata": {
    "colab": {
     "base_uri": "https://localhost:8080/"
    },
    "id": "SsYl3arrdaFi",
    "outputId": "a787dce1-d03b-4f65-f66b-4b2e21550cc6"
   },
   "outputs": [
    {
     "name": "stdout",
     "output_type": "stream",
     "text": [
      "happy is ayuppie word.\n"
     ]
    }
   ],
   "source": [
    "#After removing single author conversations\n",
    "print(root[1][0][2].text)"
   ]
  },
  {
   "cell_type": "code",
   "execution_count": null,
   "metadata": {
    "colab": {
     "base_uri": "https://localhost:8080/"
    },
    "id": "UuqtEGHRj4sw",
    "outputId": "066981ae-1b67-460d-c56e-e54a830cb1a6"
   },
   "outputs": [
    {
     "name": "stdout",
     "output_type": "stream",
     "text": [
      "hi\n"
     ]
    }
   ],
   "source": [
    "#Afetr removing low message count conversations\n",
    "print(root[2][0][2].text)"
   ]
  },
  {
   "cell_type": "code",
   "execution_count": null,
   "metadata": {
    "colab": {
     "base_uri": "https://localhost:8080/"
    },
    "id": "z9pPGWvSCxte",
    "outputId": "04b3ebaf-35d1-4384-c6c1-bba8ef8fb119"
   },
   "outputs": [
    {
     "name": "stdout",
     "output_type": "stream",
     "text": [
      "4484 messages has been removed\n"
     ]
    }
   ],
   "source": [
    "#Removing sequences of meaningless characters\n",
    "import re #regular expression operators for string matching\n",
    "messages = [] #list of messages\n",
    "count = 0\n",
    "for conversation in root: #take eeach conversation\n",
    "  messages.clear() #clear the message list before each iteration\n",
    "  conv = conversation.get('id') #take the conversatio id \n",
    "  index = conversation.get('index') #take the conversation index for indexing\n",
    "  for message in conversation: #consider each message\n",
    "    text = message.find(\"text\").text #take the text conyent of the message\n",
    "    if text is None or len(text) < 20: #if no text present or length less than 20 skip\n",
    "      continue\n",
    "    match_str = re.findall(\"[\\W_]\", text) #pattern matching expression to find the string of non-word charecters\n",
    "    if len(match_str) / len(text) > 0.6: #if the above string occupies more than 60% of the message it needs to be removed\n",
    "      line = message.get('line') # take the line index from message\n",
    "      messages.append(int(line)) #add the line index to the list\n",
    "    for i in reversed(messages): #iterating from end to top\n",
    "      try: #try statement for unexpected errors due to dataset structure\n",
    "        root[int(index)].remove(root[int(index)][i]) #removing the messages\n",
    "        count += 1\n",
    "      except:\n",
    "        continue #skipping the errors\n",
    "print(str(count)+\" messages has been removed\")"
   ]
  },
  {
   "cell_type": "code",
   "execution_count": null,
   "metadata": {
    "id": "Ts1OsgtUaSNF"
   },
   "outputs": [],
   "source": [
    "#Removing index and updating line attributes to str else it gives errror\n",
    "#during converting to xml\n",
    "for i in range(len(root)):\n",
    "  root[i].attrib.pop('index') \n",
    "for conversation in root:\n",
    "  i = 1 #in actual dataset line values started from 1 we chasnged it to start from 0 earlier for easier convenience\n",
    "  for message in conversation:\n",
    "    message.set('line',str(i))\n",
    "    i += 1"
   ]
  },
  {
   "cell_type": "code",
   "execution_count": null,
   "metadata": {
    "colab": {
     "base_uri": "https://localhost:8080/"
    },
    "id": "ezeUIf2DCxtm",
    "outputId": "deffcb39-90f5-431d-fcc6-821e71f9b6e6"
   },
   "outputs": [
    {
     "name": "stdout",
     "output_type": "stream",
     "text": [
      "Filtered data written!\n"
     ]
    }
   ],
   "source": [
    "from xml.etree.ElementTree import ElementTree,tostring\n",
    "tree = ElementTree(root)\n",
    "tree.write(open(r'/content/drive/MyDrive/online-grooming-detector-master/data/svm_training_data/training_data.xml', 'wb')) #writing the preprocessed data back\n",
    "print(\"Filtered data written!\")\n"
   ]
  }
 ],
 "metadata": {
  "colab": {
   "include_colab_link": true,
   "name": "1 - SVM Data Prefiltering.ipynb",
   "provenance": []
  },
  "kernelspec": {
   "display_name": "Python 3",
   "language": "python",
   "name": "python3"
  },
  "language_info": {
   "codemirror_mode": {
    "name": "ipython",
    "version": 3
   },
   "file_extension": ".py",
   "mimetype": "text/x-python",
   "name": "python",
   "nbconvert_exporter": "python",
   "pygments_lexer": "ipython3",
   "version": "3.8.5"
  }
 },
 "nbformat": 4,
 "nbformat_minor": 1
}

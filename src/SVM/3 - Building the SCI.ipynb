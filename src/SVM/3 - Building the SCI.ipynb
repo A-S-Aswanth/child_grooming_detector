{
  "nbformat": 4,
  "nbformat_minor": 0,
  "metadata": {
    "kernelspec": {
      "display_name": "Python 3",
      "language": "python",
      "name": "python3"
    },
    "language_info": {
      "codemirror_mode": {
        "name": "ipython",
        "version": 3
      },
      "file_extension": ".py",
      "mimetype": "text/x-python",
      "name": "python",
      "nbconvert_exporter": "python",
      "pygments_lexer": "ipython3",
      "version": "3.8.5"
    },
    "colab": {
      "name": "3 - Building the SCI.ipynb",
      "provenance": [],
      "toc_visible": true,
      "include_colab_link": true
    }
  },
  "cells": [
    {
      "cell_type": "markdown",
      "metadata": {
        "id": "view-in-github",
        "colab_type": "text"
      },
      "source": [
        "<a href=\"https://colab.research.google.com/github/DavinciB/child_grooming_detector/blob/main/src/SVM/3%20-%20Building%20the%20SCI.ipynb\" target=\"_parent\"><img src=\"https://colab.research.google.com/assets/colab-badge.svg\" alt=\"Open In Colab\"/></a>"
      ]
    },
    {
      "cell_type": "markdown",
      "metadata": {
        "id": "MKHosiwbzXQO"
      },
      "source": [
        "### Building the SVM\n",
        "Here we will aim to represent the conversations using Bag-Of-Words (BOW) with a TF-IDF weighing scheme and then build our SVM Suspicious Conversations Identifier (SCI).\n",
        "\n",
        "First we read in the training data and labels."
      ]
    },
    {
      "cell_type": "code",
      "metadata": {
        "colab": {
          "base_uri": "https://localhost:8080/"
        },
        "id": "QiYIZW-20DN2",
        "outputId": "2be93b3d-8bb1-48f5-df2d-7900331fcdef"
      },
      "source": [
        "from google.colab import drive\n",
        "drive.mount('/content/drive')"
      ],
      "execution_count": 1,
      "outputs": [
        {
          "output_type": "stream",
          "text": [
            "Mounted at /content/drive\n"
          ],
          "name": "stdout"
        }
      ]
    },
    {
      "cell_type": "code",
      "metadata": {
        "id": "4swqd-t7zXQ4"
      },
      "source": [
        "import xml.etree.ElementTree as ET #for parsing the xml file\n",
        "import csv #for working on csv files\n",
        "\n",
        "\n",
        "def get_labels_dict(data_path): #data path the path for the dataset\n",
        "    labels_dict = {} #dictionary to store conversation id and label\n",
        "    with open(data_path + 'sci_labels.csv', 'r') as f:# open the labels file in reading mode\n",
        "        file = csv.reader(f)#Return a reader object file which will iterate over lines in the given csvfile.\n",
        "        for row in file: #for each row(line) in file set the labels dictionary\n",
        "            labels_dict[row[0]] = row[1] #unique conversation id and the label\n",
        "    return labels_dict # return the dictionary\n",
        "\n",
        "\n",
        "def get_features_labels(root, labels_dict):#root of tree and the labels dictionary created are the parameters\n",
        "    corpus = [] # each row is a string formed from all messages in a conversations\n",
        "    labels = [] # each row is 0 or 1, corresponds to label for same row in corpus\n",
        "\n",
        "    for conversation in root:\n",
        "        string = \" \"\n",
        "        for message in conversation:\n",
        "            text = message.find('text').text #reading all the messages\n",
        "            if text is not None:\n",
        "                string = string + \"\\r\\n\" + text\n",
        "                '''creating a string formed by all the messages in a conversation'''\n",
        "                '''A carriage return (\\r) makes the cursor jump to the first column (begin of the line) while the newline\n",
        "                 (\\n) jumps to the next line and eventually to the beginning of that line. So to be sure to be at the first\n",
        "                  position within the next line one uses both.'''\n",
        "        corpus.append(string) #appending each conversation to the list\n",
        "        labels.append(int(labels_dict[conversation.get('id')])) #creating a label list ordered according to the order of conversations in corpus\n",
        "    return corpus, labels #return list of conversations and labels"
      ],
      "execution_count": 4,
      "outputs": []
    },
    {
      "cell_type": "code",
      "metadata": {
        "id": "ULhdhCmuzXQ7"
      },
      "source": [
        "#setting the path for train data\n",
        "train_data_path = '/content/drive/MyDrive/online-grooming-detector-master/data/svm_training_data/'\n",
        "training_xml = ET.parse(train_data_path + 'training_data.xml') #parsing the xml file to tree\n",
        "train_root = training_xml.getroot() #obtaining the root of the tree\n",
        "#setting the test data path\n",
        "test_data_path = '/content/drive/MyDrive/online-grooming-detector-master/data/svm_test_data/'\n",
        "test_data_src = '/content/drive/MyDrive/online-grooming-detector-master/data/pan12-sexual-predator-identification-test-corpus-2012-05-21/'\n",
        "test_xml = ET.parse(test_data_src + 'pan12-sexual-predator-identification-test-corpus-2012-05-17.xml') #parsing the xml file to tree\n",
        "test_root = test_xml.getroot() #obtaining the root of the tree\n",
        "#calling get features and get labels function\n",
        "train_corpus, train_labels = get_features_labels(train_root, get_labels_dict(train_data_path)) #gets a list of conversations and labels in order\n",
        "test_corpus, test_labels = get_features_labels(test_root, get_labels_dict(test_data_path)) #gets a list of conversations and labels in order"
      ],
      "execution_count": 12,
      "outputs": []
    },
    {
      "cell_type": "markdown",
      "metadata": {
        "id": "yy23H3w3zXQ9"
      },
      "source": [
        "We will now represent all conversations using BOW with TF-IDF weighing scheme.\n",
        "- [] Customize Vectorizer Parameters like normailize\n",
        "- [] Use hashing vectorization to save space and see if performance affected (https://machinelearningmastery.com/prepare-text-data-machine-learning-scikit-learn/)\n"
      ]
    },
    {
      "cell_type": "code",
      "metadata": {
        "id": "OLRzGWn-zXQ-"
      },
      "source": [
        "from sklearn.feature_extraction.text import TfidfVectorizer\n",
        "import scipy\n",
        "# from sklearn.model_selection import train_test_split\n",
        "import numpy as np\n",
        "\n",
        "vectorizer = TfidfVectorizer() #Convert a collection of raw documents to a matrix of TF-IDF features\n",
        "X_train = vectorizer.fit_transform(train_corpus)\n",
        "'''Learn vocabulary and idf, return document-term matrix.This is equivalent to fit followed by transform, but more efficiently implemented. returns Tf-idf-weighted document-term matrix.'''\n",
        "X_test = vectorizer.transform(test_corpus)\n",
        "'''Transform raw documents to document-term matrix. returns Tf-idf-weighted document-term matrix.Uses the vocabulary and document frequencies (df) learned by fit (or fit_transform).'''\n",
        "\n",
        "X_train = scipy.sparse.csr_matrix(X_train) #Compressed Sparse Row matrix from Tf-idf weighted document term matrix\n",
        "y_train = np.array(train_labels) #Create an array of label values\n",
        "X_test = scipy.sparse.csr_matrix(X_test)\n",
        "y_test = np.array(test_labels)\n",
        "\n",
        "# X_train, X_test, y_train, y_test = train_test_split(X, labels, test_size=0.3, random_state=87)\n",
        "# print(\"Train data shape:{}\\r\\nTest data shape:{}\".format(X_train.shape, X_test.shape))"
      ],
      "execution_count": 17,
      "outputs": []
    },
    {
      "cell_type": "markdown",
      "metadata": {
        "id": "-T-y4DgjzXQ_"
      },
      "source": [
        "We can now build the SVM and do cross validation to explore the accuracy of each kernel and hyperparameter."
      ]
    },
    {
      "cell_type": "code",
      "metadata": {
        "id": "Cw8ptafuzXQ_",
        "outputId": "e4523fae-a849-4041-b426-ebe743f80b78",
        "colab": {
          "base_uri": "https://localhost:8080/",
          "height": 1000
        }
      },
      "source": [
        "from sklearn import svm\n",
        "from sklearn.model_selection import KFold\n",
        "import matplotlib.pyplot as plt\n",
        "from sklearn import metrics\n",
        "import heapq\n",
        "import operator\n",
        "import numpy as np\n",
        "from sklearn.svm import LinearSVC\n",
        "\n",
        "num_fold = 10\n",
        "k_fold = KFold(num_fold, True, 1)\n",
        "kernel = 'linear'\n",
        "acc = []\n",
        "\n",
        "for coef_c in np.arange(0.1, 5.1, 0.1):#return evenly spaced values within the given arrangement start 0.1 stop 5.1 step 0.1\n",
        "    acc_arr = np.zeros(num_fold)#return a new array of specified size and shape containing only zeros\n",
        "    ind = 0# !!!!!!check if count!!!!!!!!\n",
        "    for train_rows, val_rows in k_fold.split(X_train):#Generate indices to split data into training and test set.\n",
        "#         model = svm.SVC(kernel=kernel, C=coef_c, gamma='auto', random_state=0)\n",
        "        model = LinearSVC(random_state=0, C=coef_c, loss='squared_hinge', dual=True)\n",
        "        model.fit(X_train[train_rows], y_train[train_rows])\n",
        "        pred_y = model.predict(X_train[val_rows])\n",
        "        acc_arr[ind] = metrics.accuracy_score(y_train[val_rows], pred_y)\n",
        "        ind += 1\n",
        "    acc.append([coef_c, np.mean(acc_arr)])\n",
        "    print(\"{}, c={}, Accuracy: {}\".format(kernel, coef_c, acc[len(acc)-1][1]))\n",
        "plt.plot([i[0] for i in acc], [i[1] for i in acc])\n",
        "plt.title(\"Performance of {} SVM\".format(kernel))\n",
        "plt.xlabel(\"C value\")\n",
        "plt.ylabel(\"Accuracy\")\n",
        "# plt.savefig('../output/As1_Qn4.2_' + kernel + '_' + datetime.datetime.now().strftime(\"%Y_%m_%d_%H_%M_%S\") + '.png')\n",
        "plt.show()\n",
        "best = heapq.nlargest(1, acc, key=operator.itemgetter(1))[0]\n",
        "print(\"Best performing linear kernel SVM: C={}, Acc={}\".format(best[0], best[1]))"
      ],
      "execution_count": 18,
      "outputs": [
        {
          "output_type": "stream",
          "text": [
            "linear, c=0.1, Accuracy: 0.9917218543046358\n",
            "linear, c=0.2, Accuracy: 0.9937086092715232\n",
            "linear, c=0.30000000000000004, Accuracy: 0.9943708609271523\n",
            "linear, c=0.4, Accuracy: 0.994701986754967\n",
            "linear, c=0.5, Accuracy: 0.9950331125827814\n",
            "linear, c=0.6, Accuracy: 0.995364238410596\n",
            "linear, c=0.7000000000000001, Accuracy: 0.995364238410596\n",
            "linear, c=0.8, Accuracy: 0.9953642384105962\n",
            "linear, c=0.9, Accuracy: 0.9954304635761589\n",
            "linear, c=1.0, Accuracy: 0.995364238410596\n",
            "linear, c=1.1, Accuracy: 0.995364238410596\n",
            "linear, c=1.2000000000000002, Accuracy: 0.9952980132450332\n",
            "linear, c=1.3000000000000003, Accuracy: 0.9952980132450332\n",
            "linear, c=1.4000000000000001, Accuracy: 0.9954304635761589\n",
            "linear, c=1.5000000000000002, Accuracy: 0.9954966887417218\n",
            "linear, c=1.6, Accuracy: 0.9955629139072848\n",
            "linear, c=1.7000000000000002, Accuracy: 0.9955629139072848\n",
            "linear, c=1.8000000000000003, Accuracy: 0.9955629139072848\n",
            "linear, c=1.9000000000000001, Accuracy: 0.9955629139072848\n",
            "linear, c=2.0, Accuracy: 0.9955629139072848\n",
            "linear, c=2.1, Accuracy: 0.9955629139072848\n",
            "linear, c=2.2, Accuracy: 0.9954966887417218\n",
            "linear, c=2.3000000000000003, Accuracy: 0.9955629139072848\n",
            "linear, c=2.4000000000000004, Accuracy: 0.9955629139072848\n",
            "linear, c=2.5000000000000004, Accuracy: 0.9955629139072848\n",
            "linear, c=2.6, Accuracy: 0.9956291390728478\n",
            "linear, c=2.7, Accuracy: 0.9956291390728478\n",
            "linear, c=2.8000000000000003, Accuracy: 0.9956291390728478\n",
            "linear, c=2.9000000000000004, Accuracy: 0.9956291390728478\n",
            "linear, c=3.0000000000000004, Accuracy: 0.9956291390728478\n",
            "linear, c=3.1, Accuracy: 0.9956291390728478\n",
            "linear, c=3.2, Accuracy: 0.9956291390728478\n",
            "linear, c=3.3000000000000003, Accuracy: 0.9956953642384105\n",
            "linear, c=3.4000000000000004, Accuracy: 0.9956953642384105\n",
            "linear, c=3.5000000000000004, Accuracy: 0.9956291390728478\n",
            "linear, c=3.6, Accuracy: 0.9956291390728478\n",
            "linear, c=3.7, Accuracy: 0.9956291390728478\n",
            "linear, c=3.8000000000000003, Accuracy: 0.9955629139072848\n",
            "linear, c=3.9000000000000004, Accuracy: 0.9955629139072848\n",
            "linear, c=4.0, Accuracy: 0.9955629139072848\n",
            "linear, c=4.1, Accuracy: 0.9955629139072848\n",
            "linear, c=4.2, Accuracy: 0.9955629139072848\n",
            "linear, c=4.3, Accuracy: 0.9955629139072848\n",
            "linear, c=4.3999999999999995, Accuracy: 0.9955629139072848\n",
            "linear, c=4.5, Accuracy: 0.9955629139072848\n",
            "linear, c=4.6, Accuracy: 0.9954966887417219\n",
            "linear, c=4.7, Accuracy: 0.9954966887417219\n",
            "linear, c=4.8, Accuracy: 0.9954966887417219\n",
            "linear, c=4.9, Accuracy: 0.9954966887417219\n",
            "linear, c=5.0, Accuracy: 0.9954966887417219\n"
          ],
          "name": "stdout"
        },
        {
          "output_type": "display_data",
          "data": {
            "image/png": "[encoded data removed]",
            "text/plain": [
              "<Figure size 432x288 with 1 Axes>"
            ]
          },
          "metadata": {
            "tags": [],
            "needs_background": "light"
          }
        },
        {
          "output_type": "stream",
          "text": [
            "Best performing linear kernel SVM: C=3.3000000000000003, Acc=0.9956953642384105\n"
          ],
          "name": "stdout"
        }
      ]
    },
    {
      "cell_type": "markdown",
      "metadata": {
        "id": "-06RdxPmzXRF"
      },
      "source": [
        "Now that we have the best linear kernel model, let us test against our test data."
      ]
    },
    {
      "cell_type": "code",
      "metadata": {
        "id": "yroG_krozXRG",
        "outputId": "f040f83c-34d7-4774-dd97-ade0a4cd46a9",
        "colab": {
          "base_uri": "https://localhost:8080/"
        }
      },
      "source": [
        "print(best[0])\n",
        "model = LinearSVC(random_state=0, C=best[0], loss='squared_hinge', dual=True)\n",
        "model.fit(X_train, y_train)\n",
        "pred_y = model.predict(X_test)\n",
        "print(metrics.accuracy_score(y_test, pred_y))"
      ],
      "execution_count": 23,
      "outputs": [
        {
          "output_type": "stream",
          "text": [
            "3.3000000000000003\n",
            "0.9851026249290908\n"
          ],
          "name": "stdout"
        }
      ]
    },
    {
      "cell_type": "code",
      "metadata": {
        "id": "A_4IlXeBzXRK"
      },
      "source": [
        "import pickle\n",
        "import datetime\n",
        "\n",
        "# save the model to the models folder\n",
        "filename = '/content/drive/MyDrive/online-grooming-detector-master/models/SCI_SVM_' + \"{:.2f}_\".format(metrics.accuracy_score(y_test, pred_y)) + datetime.datetime.now().strftime(\"%Y_%m_%d_%H_%M_%S\") + '.sav'\n",
        "pickle.dump(model, open(filename, 'wb'))"
      ],
      "execution_count": 27,
      "outputs": []
    }
  ]
}
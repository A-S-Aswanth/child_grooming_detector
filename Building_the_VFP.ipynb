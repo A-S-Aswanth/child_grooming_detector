{
 "cells": [
  {
   "cell_type": "markdown",
   "metadata": {
    "id": "DTwdwYJuAUIh"
   },
   "source": [
    "In this notebook we will be doing some further processing on the prefiltered data for the Victim From Predators disclosure (VFP) stage. It is important to note that only suspicious conversations (conversations that contain predator(s)) are fed into the VFP.\n",
    "\n",
    "There are a few decisions to be made:\n",
    "* We have to decide the type of document we feed into the VFP. A document contains messages written by a unique author ideantified by a id.\n",
    "    - We could feed only one document per author. This means that we will be concantenating all messages from a unique author possible from multiple conversations if that author partook in multiple conversations in the dataset. The benefit of this approach is that we could possibly get a better picture of predators if we combine all messages in all conversations together.\n",
    "    - We could feed one document per author per conversation. This means if an author partook in multiple conversations we will have multiple documents for that author. The benefit of this is this would better reflect the type of data in real-world.\n",
    "\n",
    "We will use the second option for now."
   ]
  },
  {
   "cell_type": "code",
   "execution_count": null,
   "metadata": {
    "colab": {
     "base_uri": "https://localhost:8080/"
    },
    "id": "Opam1IapA2dH",
    "outputId": "84543825-ffca-435c-ef04-c65c4c129d21"
   },
   "outputs": [
    {
     "name": "stdout",
     "output_type": "stream",
     "text": [
      "Mounted at /content/drive\n"
     ]
    }
   ],
   "source": [
    "from google.colab import drive\n",
    "drive.mount('/content/drive')"
   ]
  },
  {
   "cell_type": "code",
   "execution_count": null,
   "metadata": {
    "id": "AevKGCMqAUIo"
   },
   "outputs": [],
   "source": [
    "import xml.etree.ElementTree as ET #for parsing the xml file\n",
    "import csv #for working on csv files\n",
    "\n",
    "\n",
    "def get_susp_conv_dict(data_path):#data path the path for the dataset\n",
    "    labels_dict = {} #dictionary to store conversation id and label\n",
    "    with open(data_path + 'sci_labels.csv', 'r') as f: # open the labels file in reading mode\n",
    "        file = csv.reader(f) #Return a reader object file which will iterate over lines in the given csvfile.\n",
    "        for row in file: #for each row(line) in file set the labels dictionary\n",
    "            labels_dict[row[0]] = row[1] #unique conversation id and the label\n",
    "    return labels_dict # return the dictionary labels library\n",
    "\n",
    "\n",
    "def get_predators_dict(file): #file the path for the dataset (For getting predator dictionary)\n",
    "    all_predators = {} #dictionary to store the list of predators\n",
    "    with open(file, 'r') as f: # open the labels file in reading mode\n",
    "        reader = csv.reader(f) #Return a reader object file which will iterate over lines in the given csvfile.\n",
    "        for row in reader: #for each row(reader) in file set the labels dictionary\n",
    "            all_predators[row[0]] = 1 \n",
    "    return all_predators # return the all the predators library\n",
    "            \n",
    "\n",
    "def get_features_labels(root, labels_dict, all_predators): #root of tree and the labels dictionary \n",
    "#created are the parameters and the predatory list\n",
    "    corpus = [] # each row is a string formed from all messages in a conversations\n",
    "    labels = [] # each row is 0 or 1, corresponds to label for same row in corpus\n",
    "\n",
    "    for conversation in root:\n",
    "        # only get suspicious conversations\n",
    "        if labels_dict[conversation.get('id')] == '0':\n",
    "            continue\n",
    "        author_conv_dict = {} # author convection dictionary\n",
    "        for message in conversation: \n",
    "            author = message.find('author').text\n",
    "            text = message.find('text').text\n",
    "            if text is not None:\n",
    "                if author not in author_conv_dict:\n",
    "                    author_conv_dict[author] = text\n",
    "                else:\n",
    "                    author_conv_dict[author] += \" \" + text \n",
    "        for author, conv in author_conv_dict.items():\n",
    "            corpus.append(conv)\n",
    "            if author in all_predators:\n",
    "                labels.append(1)\n",
    "            else:\n",
    "                labels.append(-1)\n",
    "    return corpus, labels #return list of conversations and labels"
   ]
  },
  {
   "cell_type": "code",
   "execution_count": null,
   "metadata": {
    "id": "EmsncnekAUIr"
   },
   "outputs": [],
   "source": [
    "#setting the path for train data\n",
    "train_data_path = '/content/drive/MyDrive/online-grooming-detector-master/data/svm_training_data/'\n",
    "training_xml = ET.parse(train_data_path + 'training_data.xml') #parsing the xml file to tree\n",
    "train_root = training_xml.getroot() #obtaining the root of the tree for training\n",
    "\n",
    "#setting the path for test data \n",
    "test_data_path = '/content/drive/MyDrive/online-grooming-detector-master/data/svm_test_data/'\n",
    "test_data_src = '/content/drive/MyDrive/online-grooming-detector-master/data/pan12-sexual-predator-identification-test-corpus-2012-05-21/'\n",
    "test_xml = ET.parse(test_data_src + 'pan12-sexual-predator-identification-test-corpus-2012-05-17.xml') #parsing the xml file to tree\n",
    "test_root = test_xml.getroot() #obtaining the root of the tree\n",
    "\n",
    "#calling get features and get labels function\n",
    "pred_train_file_path = '/content/drive/MyDrive/online-grooming-detector-master/data/pan12-sexual-predator-identification-training-corpus-2012-05-01/pan12-sexual-predator-identification-training-corpus-predators-2012-05-01.txt'\n",
    "pred_test_file_path = '/content/drive/MyDrive/online-grooming-detector-master/data/pan12-sexual-predator-identification-test-corpus-2012-05-21/pan12-sexual-predator-identification-groundtruth-problem1.txt'\n",
    "train_corpus, train_labels = get_features_labels(train_root, get_susp_conv_dict(train_data_path), get_predators_dict(pred_train_file_path)) #gets a list of suspecious convection and predators in order for training\n",
    "test_corpus, test_labels = get_features_labels(test_root, get_susp_conv_dict(test_data_path), get_predators_dict(pred_test_file_path)) #gets a list of suspecious convection and predators in order for testing"
   ]
  },
  {
   "cell_type": "markdown",
   "metadata": {
    "id": "3kBgmrB3AUIu"
   },
   "source": [
    "TODO: Save the model once trained to a pickle file!!!"
   ]
  },
  {
   "cell_type": "code",
   "execution_count": null,
   "metadata": {
    "colab": {
     "base_uri": "https://localhost:8080/"
    },
    "id": "Tr94gZOjAUIv",
    "outputId": "c310240a-8165-4c8a-cfe3-aea234b8a805"
   },
   "outputs": [
    {
     "name": "stdout",
     "output_type": "stream",
     "text": [
      "Training data shape: (1846, 123268)\n",
      "Testing data shape: (5608, 123268)\n",
      "Training data shape: (1846, 123268)\n",
      "Testing data shape: (5608, 123268)\n",
      "Training label shape: (1846,)\n",
      "Testing label shape: (5608,)\n"
     ]
    }
   ],
   "source": [
    "from sklearn.feature_extraction.text import TfidfVectorizer  # module can be used to extract features \n",
    "# in a format supported by machine learning algorithms from datasets consisting of text.\n",
    "\n",
    "import scipy # an open-source library used for solving mathematical, scientific, engineering,\n",
    "# and technical problems\n",
    "\n",
    "import numpy as np #  is a Python library used for working with arrays under the np alias\n",
    "\n",
    "vectorizer = TfidfVectorizer(ngram_range=(1,2)) # ngram_range of (1, 1) means only unigrams, (1, 2) means unigrams and bigrams, and (2, 2) means only bigrams\n",
    "#This is an example for vector;   Unigram: This, is, an, example, for, vector;single words    Bigram: This is, an example, for vector; two words\n",
    "\n",
    "# vectorizer = TfidfVectorizer(analyzer='word')\n",
    "X_train = vectorizer.fit_transform(train_corpus) # # Vectorize the training data\n",
    "\n",
    "X_test = vectorizer.transform(test_corpus) # Vectorize the testing data\n",
    "\n",
    "# Load data for train and test\n",
    "print(\"Training data shape: {}\".format(X_train.shape)) \n",
    "print(\"Testing data shape: {}\".format(X_test.shape))\n",
    "\n",
    "X_train = scipy.sparse.csr_matrix(X_train)\n",
    "y_train = np.array(train_labels)\n",
    "X_test = scipy.sparse.csr_matrix(X_test)\n",
    "y_test = np.array(test_labels)\n",
    "\n",
    "print(\"Training data shape: {}\".format(X_train.shape))\n",
    "print(\"Testing data shape: {}\".format(X_test.shape))\n",
    "print(\"Training label shape: {}\".format(y_train.shape))\n",
    "print(\"Testing label shape: {}\".format(y_test.shape))"
   ]
  },
  {
   "cell_type": "code",
   "execution_count": null,
   "metadata": {
    "colab": {
     "base_uri": "https://localhost:8080/",
     "height": 380
    },
    "id": "s1DMh9lOAUIy",
    "outputId": "a16fba01-54ce-4f10-af7e-36b308f1d8c6"
   },
   "outputs": [
    {
     "name": "stdout",
     "output_type": "stream",
     "text": [
      "linear, tol=0.01, Accuracy: 0.9349930418223101\n",
      "linear, tol=0.001, Accuracy: 0.9349930418223101\n",
      "linear, tol=0.0001, Accuracy: 0.9349930418223101\n",
      "linear, tol=1e-05, Accuracy: 0.9349930418223101\n"
     ]
    },
    {
     "data": {
      "image/png": "[encoded data removed]",
      "text/plain": [
       "<Figure size 432x288 with 1 Axes>"
      ]
     },
     "metadata": {
      "needs_background": "light",
      "tags": []
     },
     "output_type": "display_data"
    },
    {
     "name": "stdout",
     "output_type": "stream",
     "text": [
      "Best performing linear kernel SVM: C=0.01, Acc=0.9349930418223101\n"
     ]
    }
   ],
   "source": [
    "from sklearn import svm # Importing SVM Libraries\n",
    "from sklearn.model_selection import KFold  # Provides train/test indices to split data in train/test sets. \n",
    "# Split dataset into k consecutive folds\n",
    "import matplotlib.pyplot as plt #  is a collection of functions in the popular visualization package\n",
    "# Matplotlib. Its functions manipulate elements of a figure, such as creating a figure,\n",
    "# creating a plotting area,etc\n",
    "from sklearn import metrics # module implements functions assessing prediction error for specific purposes\n",
    "import heapq # provides an implementation of the heap queue algorithm, also known as the priority queue\n",
    "# algorithm\n",
    "import operator\n",
    "import numpy as np\n",
    "from mpl_toolkits.mplot3d import axes3d, Axes3D\n",
    "from sklearn.svm import LinearSVC\n",
    "\n",
    "num_fold = 5\n",
    "k_fold = KFold(num_fold, True, 1)\n",
    "kernel = 'linear'\n",
    "acc = []\n",
    "if kernel == 'linear':\n",
    "#     for coef_c in np.arange(1, 30, 10):\n",
    "    for tol in [1e-2, 1e-3, 1e-4, 1e-5]:\n",
    "        acc_arr = np.zeros(num_fold)\n",
    "        ind = 0\n",
    "        for train_rows, val_rows in k_fold.split(X_train):\n",
    "#             model = svm.SVC(kernel=kernel, C=1, gamma=gamma_val, random_state=0)\n",
    "            model = LinearSVC(random_state=0, tol=tol, loss='squared_hinge', dual=True)\n",
    "            model.fit(X_train[train_rows], y_train[train_rows])\n",
    "            pred_y = model.predict(X_train[val_rows])\n",
    "            acc_arr[ind] = metrics.accuracy_score(y_train[val_rows], pred_y)\n",
    "            ind += 1\n",
    "        acc.append([tol, np.mean(acc_arr)])\n",
    "#         print(\"{}, c={}, Accuracy: {}\".format(kernel, coef_c, acc[len(acc)-1][1]))\n",
    "        print(\"{}, tol={}, Accuracy: {}\".format(kernel, tol, acc[len(acc)-1][1]))\n",
    "    plt.plot([i[0] for i in acc], [i[1] for i in acc])\n",
    "    plt.title(\"Performance of {} SVM\".format(kernel))\n",
    "    plt.xlabel(\"tol value\")\n",
    "    plt.ylabel(\"Accuracy\")\n",
    "    # plt.savefig('../output/As1_Qn4.2_' + kernel + '_' + datetime.datetime.now().strftime(\"%Y_%m_%d_%H_%M_%S\") + '.png')\n",
    "    plt.show()\n",
    "    best = heapq.nlargest(1, acc, key=operator.itemgetter(1))[0]\n",
    "    print(\"Best performing linear kernel SVM: C={}, Acc={}\".format(best[0], best[1]))\n",
    "#elif kernel == 'poly':\n",
    "#    for degree in range(10):\n",
    "#        for coef_c in [1,10,100]:\n",
    "#            acc_arr = np.zeros(num_fold)\n",
    "#            ind = 0\n",
    "#            for train_rows, val_rows in k_fold.split(X_train):\n",
    "#                model = svm.SVC(kernel=kernel, C=coef_c, gamma='auto', random_state=0, degree=degree)\n",
    "#                model.fit(X_train[train_rows], y_train[train_rows])\n",
    "#                pred_y = model.predict(X_train[val_rows])\n",
    "#                acc_arr[ind] = metrics.accuracy_score(y_train[val_rows], pred_y)\n",
    "#                ind += 1\n",
    "#            acc.append([degree, coef_c, np.mean(acc_arr)])\n",
    "#           print(\"{}, c={}, deg={}, Accuracy: {}\".format(kernel, coef_c, degree, acc[len(acc)-1][2]))\n",
    "#    acc = np.array(acc)\n",
    "#    # print(acc)\n",
    "#    fig = plt.figure()\n",
    "#    ax = fig.add_subplot(111, projection='3d')\n",
    "#   surf = ax.scatter3D(acc[:, 0], acc[:, 1], acc[:, 2])\n",
    "#    # fig.colorbar(surf, shrink=0.5, aspect=5)\n",
    "#    plt.xlabel(\"Degree of polynomial SVM\")\n",
    "#    plt.ylabel(\"C coefficient value\")\n",
    "#    plt.title(\"Performance of Polynomial SVM\")\n",
    "#    # plt.savefig('../output/As1_Qn4.2_' + kernel + '_' + datetime.datetime.now().strftime(\"%Y_%m_%d_%H_%M_%S\") + '.png')\n",
    "#    plt.show()\n",
    "#    best = heapq.nlargest(1, acc, key=operator.itemgetter(1))[0]\n",
    "#    print(\"Best performing poly kernel SVM: degree={}, C={}, Acc={}\".format(best[0], best[1], best[2]))"
   ]
  },
  {
   "cell_type": "code",
   "execution_count": null,
   "metadata": {
    "colab": {
     "base_uri": "https://localhost:8080/"
    },
    "id": "5kvL0oq7AUI2",
    "outputId": "b2964dca-e914-4899-8114-a83064fef21e"
   },
   "outputs": [
    {
     "name": "stdout",
     "output_type": "stream",
     "text": [
      "0.8521754636233951\n"
     ]
    }
   ],
   "source": [
    "# model = svm.SVC(kernel='linear', C=best[0], gamma='auto', random_state=0)\n",
    "model = LinearSVC(random_state=0, tol=1e-5, loss='squared_hinge')\n",
    "model.fit(X_train, y_train)\n",
    "pred_y = model.predict(X_test)\n",
    "print(metrics.accuracy_score(y_test, pred_y))"
   ]
  },
  {
   "cell_type": "code",
   "execution_count": null,
   "metadata": {
    "id": "3uvckpFPAUI4"
   },
   "outputs": [],
   "source": [
    "import pickle\n",
    "import datetime\n",
    "\n",
    "# save the model to the models folder\n",
    "filename = '/content/drive/MyDrive/online-grooming-detector-master/models/VFP_SVM_' + \"{:.2f}_\".format(metrics.accuracy_score(y_test, pred_y)) + datetime.datetime.now().strftime(\"%Y_%m_%d_%H_%M_%S\") + '.sav'\n",
    "pickle.dump(model, open(filename, 'wb'))"
   ]
  },
  {
   "cell_type": "code",
   "execution_count": null,
   "metadata": {
    "id": "6NJyw18bAUI5"
   },
   "outputs": [],
   "source": []
  }
 ],
 "metadata": {
  "colab": {
   "include_colab_link": true,
   "name": "Building_the_VFP.ipynb",
   "provenance": []
  },
  "kernelspec": {
   "display_name": "Python 3",
   "language": "python",
   "name": "python3"
  },
  "language_info": {
   "codemirror_mode": {
    "name": "ipython",
    "version": 3
   },
   "file_extension": ".py",
   "mimetype": "text/x-python",
   "name": "python",
   "nbconvert_exporter": "python",
   "pygments_lexer": "ipython3",
   "version": "3.8.5"
  }
 },
 "nbformat": 4,
 "nbformat_minor": 1
}

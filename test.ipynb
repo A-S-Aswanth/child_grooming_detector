{
 "cells": [
  {
   "cell_type": "markdown",
   "metadata": {
    "id": "-ofnjGgXTBoq"
   },
   "source": [
    "XML preprocessing"
   ]
  },
  {
   "cell_type": "code",
   "execution_count": 142,
   "metadata": {
    "id": "PoSbBuGMTBKb"
   },
   "outputs": [],
   "source": [
    "import xml.etree.ElementTree as ET\n",
    "import datetime\n",
    "\n",
    "train_data_path = r\"/content/drive/MyDrive/data/pan12-sexual-predator-identification-training-corpus-2012-05-01\"\n",
    "\n",
    "training_xml = ET.parse(train_data_path + '/pan12-sexual-predator-identification-training-corpus-2012-05-01.xml')\n",
    "root = training_xml.getroot()  \n",
    "conv_2_remove = []\n",
    "df_cols =[\"conversation_id\",\"message_line\",\"message\"] \n",
    "rows = []   "
   ]
  },
  {
   "cell_type": "code",
   "execution_count": 144,
   "metadata": {
    "id": "S4NF669A6kb2"
   },
   "outputs": [],
   "source": [
    "x = 0\n",
    "for conversation in root:\n",
    "  for message in conversation:\n",
    "    for text in message:\n",
    "      x+=1\n",
    "i = 0\n",
    "for conversation in root:\n",
    "  conversation.set('index',i)   \n",
    "  i += 1\n",
    "for conversation in root:\n",
    "  i = 0\n",
    "  for message in conversation:\n",
    "    message.set('line',i)\n",
    "    i += 1"
   ]
  },
  {
   "cell_type": "code",
   "execution_count": 138,
   "metadata": {
    "colab": {
     "base_uri": "https://localhost:8080/"
    },
    "id": "jg434Kth3mA3",
    "outputId": "539b53bb-f613-4c74-d880-c42b4fd15eed"
   },
   "outputs": [
    {
     "name": "stdout",
     "output_type": "stream",
     "text": [
      "12773 out of 66927 conversations should be removed\n"
     ]
    }
   ],
   "source": [
    "conv_2_remove = []\n",
    "authors = []\n",
    "init_len = len(root)\n",
    "f = open(\"/content/drive/MyDrive/data/pan12-sexual-predator-identification-training-corpus-2012-05-01/uniqueauthorlist.txt\", \"a\")\n",
    "\n",
    "for conversation in root:\n",
    "    authors.clear()\n",
    "    index = conversation.get('index')\n",
    "    \n",
    "# finding all unique authors in this conversation\n",
    "    for message in conversation:\n",
    "        author = message.find('author').text\n",
    "        if author not in authors:\n",
    "            authors.append(author)\n",
    "\n",
    "    if (len(authors)) <= 1 and conversation.get('id') not in conv_2_remove:\n",
    "        conv_2_remove.append(conversation.get('id'))\n",
    "        f.write(\" \"+str(index)+\" \")\n",
    "f.close()\n",
    "print(\"{} out of {} conversations should be removed\".format(len(conv_2_remove), init_len))"
   ]
  },
  {
   "cell_type": "code",
   "execution_count": 139,
   "metadata": {
    "colab": {
     "base_uri": "https://localhost:8080/"
    },
    "id": "PZQm4Gyh31y3",
    "outputId": "1c17debe-06a4-49d7-bd97-304662798a44"
   },
   "outputs": [
    {
     "name": "stdout",
     "output_type": "stream",
     "text": [
      "51827 out of 66927 conversations should be removed\n"
     ]
    }
   ],
   "source": [
    "f = open(\"/content/drive/MyDrive/data/pan12-sexual-predator-identification-training-corpus-2012-05-01/lowmessagecountlist.txt\", \"a\")\n",
    "for conversation in root:\n",
    "  index = conversation.get('index')\n",
    "  if conversation.get('id') in conv_2_remove:\n",
    "    continue\n",
    "  authors = {}\n",
    "  for message in conversation:\n",
    "    author = message.find('author').text\n",
    "    if author in authors:\n",
    "      authors[author] = authors[author] + 1\n",
    "    else:\n",
    "      authors[author] = 1\n",
    "  remove = True\n",
    "  for author in authors:\n",
    "    if authors[author] > 5:\n",
    "      remove = False\n",
    "  if remove is True and conversation.get('id') not in conv_2_remove:\n",
    "    conv_2_remove.append(conversation.get('id'))\n",
    "    f.write(\" \"+str(index)+\" \")\n",
    "\n",
    "f.close()\n",
    "print(\"{} out of {} conversations should be removed\".format(len(conv_2_remove), init_len))"
   ]
  },
  {
   "cell_type": "code",
   "execution_count": 145,
   "metadata": {
    "colab": {
     "base_uri": "https://localhost:8080/"
    },
    "id": "NZtdip9ekW7J",
    "outputId": "29e98698-0e9e-46a9-ea2f-286c607d1c47"
   },
   "outputs": [
    {
     "name": "stdout",
     "output_type": "stream",
     "text": [
      "||/ Name                              Version                        Description+++-=================================-==============================-============================================\n"
     ]
    }
   ],
   "source": [
    "#Before removing sequences of meaningless characters\n",
    "print(root[17874][20][2].text)"
   ]
  },
  {
   "cell_type": "code",
   "execution_count": 146,
   "metadata": {
    "id": "8UU8sKhGUY7b"
   },
   "outputs": [],
   "source": [
    "import re\n",
    "messages = []\n",
    "error = 0\n",
    "f = open(\"/content/drive/MyDrive/data/pan12-sexual-predator-identification-training-corpus-2012-05-01/junklist.txt\", \"a\")\n",
    "for conversation in root:\n",
    "  messages.clear()\n",
    "  conv = conversation.get('id')\n",
    "  index = conversation.get('index')\n",
    "  for message in conversation:\n",
    "    text = message.find(\"text\").text\n",
    "    if text is None or len(text) < 20:\n",
    "      continue\n",
    "    match_str = re.findall(\"[\\W_]\", text)\n",
    "    if len(match_str) / len(text) > 0.6:\n",
    "      line = message.get('line')\n",
    "      messages.append(int(line))\n",
    "    for i in reversed(messages):\n",
    "      try:\n",
    "        f.write(\" \"+str(index)+\" \"+str(line)+\" \")\n",
    "        root[int(index)].remove(root[int(index)][i])\n",
    "      except:\n",
    "        error += 1\n",
    "        continue\n",
    "f.close()"
   ]
  },
  {
   "cell_type": "code",
   "execution_count": 149,
   "metadata": {
    "colab": {
     "base_uri": "https://localhost:8080/"
    },
    "id": "SfGXRlJ-ktja",
    "outputId": "3ae895a8-ac69-4af5-997b-9e420d3707df"
   },
   "outputs": [
    {
     "name": "stdout",
     "output_type": "stream",
     "text": [
      "tenzing_: apt-get install apt-spy\n"
     ]
    }
   ],
   "source": [
    "#After removing sequences of meaningless characters\n",
    "print(root[17874][20][2].text)"
   ]
  },
  {
   "cell_type": "code",
   "execution_count": 110,
   "metadata": {
    "colab": {
     "base_uri": "https://localhost:8080/"
    },
    "id": "EqENN5kpF7B9",
    "outputId": "8c0b837c-9bbb-4f5e-9f65-4a9f9efd7091"
   },
   "outputs": [
    {
     "name": "stdout",
     "output_type": "stream",
     "text": [
      "0\n"
     ]
    }
   ],
   "source": [
    "y = 0\n",
    "for conversation in root:\n",
    "  for message in conversation:\n",
    "    for text in message:\n",
    "      y+=1\n",
    "print(x-y)"
   ]
  },
  {
   "cell_type": "code",
   "execution_count": 103,
   "metadata": {
    "id": "KMuyKXsi02CW"
   },
   "outputs": [],
   "source": []
  }
 ],
 "metadata": {
  "colab": {
   "authorship_tag": "ABX9TyOky7f3jT6RSMwqiyaLePw3",
   "include_colab_link": true,
   "mount_file_id": "https://github.com/DavinciB/child_grooming_detector/blob/main/test.ipynb",
   "name": "Untitled1.ipynb",
   "provenance": []
  },
  "kernelspec": {
   "display_name": "Python 3",
   "language": "python",
   "name": "python3"
  },
  "language_info": {
   "codemirror_mode": {
    "name": "ipython",
    "version": 3
   },
   "file_extension": ".py",
   "mimetype": "text/x-python",
   "name": "python",
   "nbconvert_exporter": "python",
   "pygments_lexer": "ipython3",
   "version": "3.8.5"
  }
 },
 "nbformat": 4,
 "nbformat_minor": 1
}

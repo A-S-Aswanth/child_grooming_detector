{
  "nbformat": 4,
  "nbformat_minor": 0,
  "metadata": {
    "colab": {
      "name": "Untitled1.ipynb",
      "provenance": [],
      "mount_file_id": "https://github.com/DavinciB/child_grooming_detector/blob/main/test.ipynb",
      "authorship_tag": "ABX9TyOky7f3jT6RSMwqiyaLePw3",
      "include_colab_link": true
    },
    "kernelspec": {
      "name": "python3",
      "display_name": "Python 3"
    }
  },
  "cells": [
    {
      "cell_type": "markdown",
      "metadata": {
        "id": "view-in-github",
        "colab_type": "text"
      },
      "source": [
        "<a href=\"https://colab.research.google.com/github/DavinciB/child_grooming_detector/blob/main/test.ipynb\" target=\"_parent\"><img src=\"https://colab.research.google.com/assets/colab-badge.svg\" alt=\"Open In Colab\"/></a>"
      ]
    },
    {
      "cell_type": "markdown",
      "metadata": {
        "id": "-ofnjGgXTBoq"
      },
      "source": [
        "XML preprocessing"
      ]
    },
    {
      "cell_type": "code",
      "metadata": {
        "id": "PoSbBuGMTBKb"
      },
      "source": [
        "import xml.etree.ElementTree as ET\r\n",
        "import datetime\r\n",
        "\r\n",
        "train_data_path = r\"/content/drive/MyDrive/data/pan12-sexual-predator-identification-training-corpus-2012-05-01\"\r\n",
        "\r\n",
        "training_xml = ET.parse(train_data_path + '/pan12-sexual-predator-identification-training-corpus-2012-05-01.xml')\r\n",
        "root = training_xml.getroot()  \r\n",
        "conv_2_remove = []\r\n",
        "df_cols =[\"conversation_id\",\"message_line\",\"message\"] \r\n",
        "rows = []   "
      ],
      "execution_count": 142,
      "outputs": []
    },
    {
      "cell_type": "code",
      "metadata": {
        "id": "S4NF669A6kb2"
      },
      "source": [
        "x = 0\r\n",
        "for conversation in root:\r\n",
        "  for message in conversation:\r\n",
        "    for text in message:\r\n",
        "      x+=1\r\n",
        "i = 0\r\n",
        "for conversation in root:\r\n",
        "  conversation.set('index',i)   \r\n",
        "  i += 1\r\n",
        "for conversation in root:\r\n",
        "  i = 0\r\n",
        "  for message in conversation:\r\n",
        "    message.set('line',i)\r\n",
        "    i += 1"
      ],
      "execution_count": 144,
      "outputs": []
    },
    {
      "cell_type": "code",
      "metadata": {
        "id": "jg434Kth3mA3",
        "outputId": "539b53bb-f613-4c74-d880-c42b4fd15eed",
        "colab": {
          "base_uri": "https://localhost:8080/"
        }
      },
      "source": [
        "conv_2_remove = []\r\n",
        "authors = []\r\n",
        "init_len = len(root)\r\n",
        "f = open(\"/content/drive/MyDrive/data/pan12-sexual-predator-identification-training-corpus-2012-05-01/uniqueauthorlist.txt\", \"a\")\r\n",
        "\r\n",
        "for conversation in root:\r\n",
        "    authors.clear()\r\n",
        "    index = conversation.get('index')\r\n",
        "    \r\n",
        "# finding all unique authors in this conversation\r\n",
        "    for message in conversation:\r\n",
        "        author = message.find('author').text\r\n",
        "        if author not in authors:\r\n",
        "            authors.append(author)\r\n",
        "\r\n",
        "    if (len(authors)) <= 1 and conversation.get('id') not in conv_2_remove:\r\n",
        "        conv_2_remove.append(conversation.get('id'))\r\n",
        "        f.write(\" \"+str(index)+\" \")\r\n",
        "f.close()\r\n",
        "print(\"{} out of {} conversations should be removed\".format(len(conv_2_remove), init_len))"
      ],
      "execution_count": 138,
      "outputs": [
        {
          "output_type": "stream",
          "text": [
            "12773 out of 66927 conversations should be removed\n"
          ],
          "name": "stdout"
        }
      ]
    },
    {
      "cell_type": "code",
      "metadata": {
        "id": "PZQm4Gyh31y3",
        "outputId": "1c17debe-06a4-49d7-bd97-304662798a44",
        "colab": {
          "base_uri": "https://localhost:8080/"
        }
      },
      "source": [
        "f = open(\"/content/drive/MyDrive/data/pan12-sexual-predator-identification-training-corpus-2012-05-01/lowmessagecountlist.txt\", \"a\")\r\n",
        "for conversation in root:\r\n",
        "  index = conversation.get('index')\r\n",
        "  if conversation.get('id') in conv_2_remove:\r\n",
        "    continue\r\n",
        "  authors = {}\r\n",
        "  for message in conversation:\r\n",
        "    author = message.find('author').text\r\n",
        "    if author in authors:\r\n",
        "      authors[author] = authors[author] + 1\r\n",
        "    else:\r\n",
        "      authors[author] = 1\r\n",
        "  remove = True\r\n",
        "  for author in authors:\r\n",
        "    if authors[author] > 5:\r\n",
        "      remove = False\r\n",
        "  if remove is True and conversation.get('id') not in conv_2_remove:\r\n",
        "    conv_2_remove.append(conversation.get('id'))\r\n",
        "    f.write(\" \"+str(index)+\" \")\r\n",
        "\r\n",
        "f.close()\r\n",
        "print(\"{} out of {} conversations should be removed\".format(len(conv_2_remove), init_len))"
      ],
      "execution_count": 139,
      "outputs": [
        {
          "output_type": "stream",
          "text": [
            "51827 out of 66927 conversations should be removed\n"
          ],
          "name": "stdout"
        }
      ]
    },
    {
      "cell_type": "code",
      "metadata": {
        "id": "NZtdip9ekW7J",
        "outputId": "29e98698-0e9e-46a9-ea2f-286c607d1c47",
        "colab": {
          "base_uri": "https://localhost:8080/"
        }
      },
      "source": [
        "#Before removing sequences of meaningless characters\r\n",
        "print(root[17874][20][2].text)"
      ],
      "execution_count": 145,
      "outputs": [
        {
          "output_type": "stream",
          "text": [
            "||/ Name                              Version                        Description+++-=================================-==============================-============================================\n"
          ],
          "name": "stdout"
        }
      ]
    },
    {
      "cell_type": "code",
      "metadata": {
        "id": "8UU8sKhGUY7b"
      },
      "source": [
        "import re\r\n",
        "messages = []\r\n",
        "error = 0\r\n",
        "f = open(\"/content/drive/MyDrive/data/pan12-sexual-predator-identification-training-corpus-2012-05-01/junklist.txt\", \"a\")\r\n",
        "for conversation in root:\r\n",
        "  messages.clear()\r\n",
        "  conv = conversation.get('id')\r\n",
        "  index = conversation.get('index')\r\n",
        "  for message in conversation:\r\n",
        "    text = message.find(\"text\").text\r\n",
        "    if text is None or len(text) < 20:\r\n",
        "      continue\r\n",
        "    match_str = re.findall(\"[\\W_]\", text)\r\n",
        "    if len(match_str) / len(text) > 0.6:\r\n",
        "      line = message.get('line')\r\n",
        "      messages.append(int(line))\r\n",
        "    for i in reversed(messages):\r\n",
        "      try:\r\n",
        "        f.write(\" \"+str(index)+\" \"+str(line)+\" \")\r\n",
        "        root[int(index)].remove(root[int(index)][i])\r\n",
        "      except:\r\n",
        "        error += 1\r\n",
        "        continue\r\n",
        "f.close()"
      ],
      "execution_count": 146,
      "outputs": []
    },
    {
      "cell_type": "code",
      "metadata": {
        "id": "SfGXRlJ-ktja",
        "outputId": "3ae895a8-ac69-4af5-997b-9e420d3707df",
        "colab": {
          "base_uri": "https://localhost:8080/"
        }
      },
      "source": [
        "#After removing sequences of meaningless characters\r\n",
        "print(root[17874][20][2].text)"
      ],
      "execution_count": 149,
      "outputs": [
        {
          "output_type": "stream",
          "text": [
            "tenzing_: apt-get install apt-spy\n"
          ],
          "name": "stdout"
        }
      ]
    },
    {
      "cell_type": "code",
      "metadata": {
        "id": "EqENN5kpF7B9",
        "outputId": "8c0b837c-9bbb-4f5e-9f65-4a9f9efd7091",
        "colab": {
          "base_uri": "https://localhost:8080/"
        }
      },
      "source": [
        "y = 0\r\n",
        "for conversation in root:\r\n",
        "  for message in conversation:\r\n",
        "    for text in message:\r\n",
        "      y+=1\r\n",
        "print(x-y)"
      ],
      "execution_count": 110,
      "outputs": [
        {
          "output_type": "stream",
          "text": [
            "0\n"
          ],
          "name": "stdout"
        }
      ]
    },
    {
      "cell_type": "code",
      "metadata": {
        "id": "KMuyKXsi02CW"
      },
      "source": [
        ""
      ],
      "execution_count": 103,
      "outputs": []
    }
  ]
}
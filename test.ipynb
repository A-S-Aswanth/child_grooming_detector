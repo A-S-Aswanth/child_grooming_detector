{
  "nbformat": 4,
  "nbformat_minor": 0,
  "metadata": {
    "colab": {
      "name": "Untitled1.ipynb",
      "provenance": [],
      "mount_file_id": "1reJyQE5tJERC3hX-YA5HPk6fZaCytBP4",
      "authorship_tag": "ABX9TyNYzsdMd4ExNRKQD0m2kUyg",
      "include_colab_link": true
    },
    "kernelspec": {
      "name": "python3",
      "display_name": "Python 3"
    }
  },
  "cells": [
    {
      "cell_type": "markdown",
      "metadata": {
        "id": "view-in-github",
        "colab_type": "text"
      },
      "source": [
        "<a href=\"https://colab.research.google.com/github/DavinciB/child_grooming_detector/blob/main/test.ipynb\" target=\"_parent\"><img src=\"https://colab.research.google.com/assets/colab-badge.svg\" alt=\"Open In Colab\"/></a>"
      ]
    },
    {
      "cell_type": "markdown",
      "metadata": {
        "id": "-ofnjGgXTBoq"
      },
      "source": [
        "XML preprocessing"
      ]
    },
    {
      "cell_type": "code",
      "metadata": {
        "id": "PoSbBuGMTBKb"
      },
      "source": [
        "import xml.etree.ElementTree as ET\r\n",
        "import datetime\r\n",
        "\r\n",
        "\"\"\"train_data_path = \"../../data/pan12-sexual-predator-identification-training-corpus-2012-05-01/\"\r\n",
        "test_data_path = \"../../data/pan12-sexual-predator-identification-test-corpus-2012-05-21/\"\r\n",
        "\r\n",
        "training_xml = ET.parse(train_data_path + 'pan12-sexual-predator-identification-training-corpus-2012-05-01.xml')\r\n",
        "root = training_xml.getroot()*/\"\"\"\r\n",
        "\r\n",
        "train_data_path = r\"/content/drive/MyDrive/online-grooming-detector-master/data/pan12-sexual-predator-identification-training-corpus-2012-05-01\"\r\n",
        "test_data_path = r\"/content/drive/MyDrive/online-grooming-detector-master/data/pan12-sexual-predator-identification-test-corpus-2012-05-21\"\r\n",
        "\r\n",
        "training_xml = ET.parse(train_data_path + '/pan12-sexual-predator-identification-training-corpus-2012-05-01.xml')\r\n",
        "root = training_xml.getroot()  \r\n",
        "conv_2_remove = []\r\n",
        "df_cols =[\"conversation_id\",\"message_line\",\"message\"] \r\n",
        "rows = []     "
      ],
      "execution_count": 9,
      "outputs": []
    },
    {
      "cell_type": "code",
      "metadata": {
        "id": "8UU8sKhGUY7b"
      },
      "source": [
        "import re\r\n",
        "for conversation in root:\r\n",
        "  conv = conversation.get('id')\r\n",
        "  if conversation.get('id') in conv_2_remove:\r\n",
        "    continue\r\n",
        "  remove = False\r\n",
        "  for message in conversation:\r\n",
        "    text = message.find(\"text\").text\r\n",
        "    if text is None or len(text) < 20:\r\n",
        "      continue\r\n",
        "    match_str = re.findall(\"[\\W_]\", text)\r\n",
        "    if len(match_str) / len(text) > 0.6:\r\n",
        "      remove = True\r\n",
        "      line = message.get('line')\r\n",
        "      rows.append({\"conversation_id\": conv, \"message_line\": line,\"message\": text})\r\n",
        "    out_df = pd.DataFrame(rows, columns = df_cols)\r\n",
        "            \r\n",
        "  if remove is True and conversation.get('id') not in conv_2_remove:\r\n",
        "   conv_2_remove.append(conversation.get('id'))"
      ],
      "execution_count": 12,
      "outputs": []
    },
    {
      "cell_type": "code",
      "metadata": {
        "colab": {
          "base_uri": "https://localhost:8080/"
        },
        "id": "ZeF3a2pcapKY",
        "outputId": "aa73772a-6720-4060-f2fc-cd4e53b6b4ab"
      },
      "source": [
        "out_df[\"message\"]"
      ],
      "execution_count": 19,
      "outputs": [
        {
          "output_type": "execute_result",
          "data": {
            "text/plain": [
              "0       for t = 1 : T-1\\n    w(t) = (wi-wf)*(T-t)/T + ...\n",
              "1       FUCK YOU\\n....................../´¯/)\\n..........\n",
              "2       FUCK YOU\\n....................../´¯/)\\n..........\n",
              "3       ………………….._,,-~’’’¯¯¯’’~-,,……………………………………………………...\n",
              "4       ?????????????????????????????????\\n???????????...\n",
              "                              ...                        \n",
              "1055    í ?t my ??m ?? ?? ??ere j?t go ??? ?i?n ??.. ?...\n",
              "1056                                ?al? t? y?u ??ere! (=\n",
              "1057    O o\\n/¯____________________________ __________...\n",
              "1058    .................................................\n",
              "1059      no..................................not  at all\n",
              "Name: message, Length: 1060, dtype: object"
            ]
          },
          "metadata": {
            "tags": []
          },
          "execution_count": 19
        }
      ]
    }
  ]
}
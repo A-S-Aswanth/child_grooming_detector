{
  "nbformat": 4,
  "nbformat_minor": 0,
  "metadata": {
    "colab": {
      "name": "Untitled1.ipynb",
      "provenance": [],
      "authorship_tag": "ABX9TyM4L5VBOrWjTfd98GOJOyUK",
      "include_colab_link": true
    },
    "kernelspec": {
      "name": "python3",
      "display_name": "Python 3"
    },
    "language_info": {
      "name": "python"
    }
  },
  "cells": [
    {
      "cell_type": "markdown",
      "metadata": {
        "id": "view-in-github",
        "colab_type": "text"
      },
      "source": [
        "<a href=\"https://colab.research.google.com/github/DavinciB/child_grooming_detector/blob/main/Comparison.ipynb\" target=\"_parent\"><img src=\"https://colab.research.google.com/assets/colab-badge.svg\" alt=\"Open In Colab\"/></a>"
      ]
    },
    {
      "cell_type": "code",
      "metadata": {
        "colab": {
          "base_uri": "https://localhost:8080/"
        },
        "id": "1O1jeM0TwsX2",
        "outputId": "a1edf848-11da-48f6-844e-88af567efa50"
      },
      "source": [
        "from google.colab import drive\n",
        "drive.mount('/content/drive')"
      ],
      "execution_count": 1,
      "outputs": [
        {
          "output_type": "stream",
          "text": [
            "Mounted at /content/drive\n"
          ],
          "name": "stdout"
        }
      ]
    },
    {
      "cell_type": "code",
      "metadata": {
        "id": "EUKI0BJ_xsoS"
      },
      "source": [
        "import xml.etree.ElementTree as ET\n",
        "from matplotlib import pyplot as plt\n",
        "import csv\n",
        "\n",
        "\n",
        "def get_labels_dict(data_path):\n",
        "    labels_dict = {}\n",
        "    with open(data_path + 'sci_labels.csv', 'r') as f:\n",
        "        file = csv.reader(f)\n",
        "        for row in file:\n",
        "            labels_dict[row[0]] = row[1]\n",
        "    return labels_dict\n",
        "\n",
        "def get_features_labels(root, labels_dict):\n",
        "    corpus = []\n",
        "    labels = []\n",
        "    for conversation in root:\n",
        "        string = \" \"\n",
        "        for message in conversation:\n",
        "            text = message.find('text').text\n",
        "            if text is not None:\n",
        "                string = string + \"\\r\\n\" + text\n",
        "        corpus.append(string)\n",
        "        labels.append(int(labels_dict[conversation.get('id')]))\n",
        "    return corpus, labels\n",
        "train_data_path = '/content/drive/MyDrive/online-grooming-detector-master/data/svm_training_data/'\n",
        "training_xml = ET.parse(train_data_path + 'training_data.xml')\n",
        "train_root = training_xml.getroot()\n",
        "test_data_path = '/content/drive/MyDrive/online-grooming-detector-master/data/svm_test_data/'\n",
        "test_data_src = '/content/drive/MyDrive/online-grooming-detector-master/data/pan12-sexual-predator-identification-test-corpus-2012-05-21/'\n",
        "test_xml = ET.parse(test_data_src + 'pan12-sexual-predator-identification-test-corpus-2012-05-17.xml')\n",
        "test_root = test_xml.getroot()\n",
        "train_corpus, train_labels = get_features_labels(train_root, get_labels_dict(train_data_path))\n",
        "test_corpus, test_labels = get_features_labels(test_root, get_labels_dict(test_data_path))"
      ],
      "execution_count": 2,
      "outputs": []
    },
    {
      "cell_type": "code",
      "metadata": {
        "id": "tB1ZsFDMde-W"
      },
      "source": [
        "from sklearn.feature_extraction.text import TfidfVectorizer\n",
        "import scipy\n",
        "import numpy as np\n",
        "\n",
        "vectorizer = TfidfVectorizer()\n",
        "X_train = vectorizer.fit_transform(train_corpus)\n",
        "X_test = vectorizer.transform(test_corpus)\n",
        "X_train = scipy.sparse.csr_matrix(X_train)\n",
        "y_train = np.array(train_labels)\n",
        "X_test = scipy.sparse.csr_matrix(X_test)\n",
        "y_test = np.array(test_labels)"
      ],
      "execution_count": 3,
      "outputs": []
    },
    {
      "cell_type": "code",
      "metadata": {
        "colab": {
          "base_uri": "https://localhost:8080/",
          "height": 1000
        },
        "id": "KBeGGpbudhO2",
        "outputId": "7a5fa608-f430-4a2e-94a9-e63cf5604411"
      },
      "source": [
        "from sklearn import svm\n",
        "from sklearn.model_selection import KFold\n",
        "import matplotlib.pyplot as plt\n",
        "from sklearn import metrics\n",
        "import heapq\n",
        "import operator\n",
        "import numpy as np\n",
        "from sklearn.svm import LinearSVC\n",
        "\n",
        "num_fold = 10\n",
        "k_fold = KFold(num_fold, True, 1)\n",
        "acc = []\n",
        "\n",
        "for coef_c in np.arange(0.1, 5.1, 0.1):\n",
        "    acc_arr = np.zeros(num_fold)\n",
        "    ind = 0\n",
        "    for train_rows, val_rows in k_fold.split(X_train):\n",
        "        model = LinearSVC(random_state=0, C=coef_c, loss='squared_hinge', dual=True)\n",
        "        model.fit(X_train[train_rows], y_train[train_rows])\n",
        "        pred_y = model.predict(X_train[val_rows])\n",
        "        acc_arr[ind] = metrics.accuracy_score(y_train[val_rows], pred_y)\n",
        "        ind += 1\n",
        "    acc.append([coef_c, np.mean(acc_arr)])\n",
        "    print(\"c={}, Accuracy: {}\".format(coef_c, acc[len(acc)-1][1]))\n",
        "plt.plot([i[0] for i in acc], [i[1] for i in acc])\n",
        "plt.title(\"Performance of SVM\")\n",
        "plt.xlabel(\"C value\")\n",
        "plt.ylabel(\"Accuracy\")\n",
        "plt.show()\n",
        "best = heapq.nlargest(1, acc, key=operator.itemgetter(1))[0]\n",
        "print(\"Best performing linear kernel SVM: C={}, Acc={}\".format(best[0], best[1]))"
      ],
      "execution_count": 4,
      "outputs": [
        {
          "output_type": "stream",
          "text": [
            "c=0.1, Accuracy: 0.9917218543046358\n",
            "c=0.2, Accuracy: 0.9937086092715232\n",
            "c=0.30000000000000004, Accuracy: 0.9943708609271523\n",
            "c=0.4, Accuracy: 0.994701986754967\n",
            "c=0.5, Accuracy: 0.9950331125827814\n",
            "c=0.6, Accuracy: 0.995364238410596\n",
            "c=0.7000000000000001, Accuracy: 0.995364238410596\n",
            "c=0.8, Accuracy: 0.9953642384105962\n",
            "c=0.9, Accuracy: 0.9954304635761589\n",
            "c=1.0, Accuracy: 0.995364238410596\n",
            "c=1.1, Accuracy: 0.995364238410596\n",
            "c=1.2000000000000002, Accuracy: 0.9952980132450332\n",
            "c=1.3000000000000003, Accuracy: 0.9952980132450332\n",
            "c=1.4000000000000001, Accuracy: 0.9954304635761589\n",
            "c=1.5000000000000002, Accuracy: 0.9954966887417218\n",
            "c=1.6, Accuracy: 0.9955629139072848\n",
            "c=1.7000000000000002, Accuracy: 0.9955629139072848\n",
            "c=1.8000000000000003, Accuracy: 0.9955629139072848\n",
            "c=1.9000000000000001, Accuracy: 0.9955629139072848\n",
            "c=2.0, Accuracy: 0.9955629139072848\n",
            "c=2.1, Accuracy: 0.9955629139072848\n",
            "c=2.2, Accuracy: 0.9954966887417218\n",
            "c=2.3000000000000003, Accuracy: 0.9955629139072848\n",
            "c=2.4000000000000004, Accuracy: 0.9955629139072848\n",
            "c=2.5000000000000004, Accuracy: 0.9955629139072848\n",
            "c=2.6, Accuracy: 0.9956291390728478\n",
            "c=2.7, Accuracy: 0.9956291390728478\n",
            "c=2.8000000000000003, Accuracy: 0.9956291390728478\n",
            "c=2.9000000000000004, Accuracy: 0.9956291390728478\n",
            "c=3.0000000000000004, Accuracy: 0.9956291390728478\n",
            "c=3.1, Accuracy: 0.9956291390728478\n",
            "c=3.2, Accuracy: 0.9956291390728478\n",
            "c=3.3000000000000003, Accuracy: 0.9956953642384105\n",
            "c=3.4000000000000004, Accuracy: 0.9956953642384105\n",
            "c=3.5000000000000004, Accuracy: 0.9956291390728478\n",
            "c=3.6, Accuracy: 0.9956291390728478\n",
            "c=3.7, Accuracy: 0.9956291390728478\n",
            "c=3.8000000000000003, Accuracy: 0.9955629139072848\n",
            "c=3.9000000000000004, Accuracy: 0.9955629139072848\n",
            "c=4.0, Accuracy: 0.9955629139072848\n",
            "c=4.1, Accuracy: 0.9955629139072848\n",
            "c=4.2, Accuracy: 0.9955629139072848\n",
            "c=4.3, Accuracy: 0.9955629139072848\n",
            "c=4.3999999999999995, Accuracy: 0.9955629139072848\n",
            "c=4.5, Accuracy: 0.9955629139072848\n",
            "c=4.6, Accuracy: 0.9954966887417219\n",
            "c=4.7, Accuracy: 0.9954966887417219\n",
            "c=4.8, Accuracy: 0.9954966887417219\n",
            "c=4.9, Accuracy: 0.9954966887417219\n",
            "c=5.0, Accuracy: 0.9954966887417219\n"
          ],
          "name": "stdout"
        },
        {
          "output_type": "display_data",
          "data": {
            "image/png": "[encoded data removed]",
            "text/plain": [
              "<Figure size 432x288 with 1 Axes>"
            ]
          },
          "metadata": {
            "tags": [],
            "needs_background": "light"
          }
        },
        {
          "output_type": "stream",
          "text": [
            "Best performing linear kernel SVM: C=3.3000000000000003, Acc=0.9956953642384105\n"
          ],
          "name": "stdout"
        }
      ]
    },
    {
      "cell_type": "code",
      "metadata": {
        "colab": {
          "base_uri": "https://localhost:8080/"
        },
        "id": "eE13L0nndouV",
        "outputId": "d02af312-d843-4901-9b50-9cbc8e20062c"
      },
      "source": [
        "model = LinearSVC(random_state=0, C=best[0], loss='squared_hinge', dual=True)\n",
        "model.fit(X_train, y_train)\n",
        "pred_y = model.predict(X_test)\n",
        "print(metrics.accuracy_score(y_test, pred_y))"
      ],
      "execution_count": 5,
      "outputs": [
        {
          "output_type": "stream",
          "text": [
            "0.9851026249290908\n"
          ],
          "name": "stdout"
        }
      ]
    },
    {
      "cell_type": "code",
      "metadata": {
        "colab": {
          "base_uri": "https://localhost:8080/",
          "height": 514
        },
        "id": "j4ZQ9Xo2ds1P",
        "outputId": "afe485d9-dfd6-45df-8cba-42b83b85989b"
      },
      "source": [
        "from sklearn.metrics import classification_report,confusion_matrix\n",
        "#CONFUSION MATRIX\n",
        "print(confusion_matrix(y_test,pred_y))\n",
        "print('\\n')\n",
        "print(classification_report(y_test,pred_y))\n",
        "\n",
        "#Plot confusion_matrix\n",
        "labels = ['0', '1']\n",
        "fig = plt.figure()\n",
        "ax = fig.add_subplot(111)\n",
        "cax = ax.matshow(confusion_matrix(y_test,y_pred))\n",
        "plt.title('Confusion matrix of the classifier')\n",
        "fig.colorbar(cax)\n",
        "ax.set_xticklabels([''] + labels)\n",
        "ax.set_yticklabels([''] + labels)\n",
        "plt.xlabel('Predicted')\n",
        "plt.ylabel('True')\n",
        "plt.show()"
      ],
      "execution_count": 8,
      "outputs": [
        {
          "output_type": "stream",
          "text": [
            "[[150755    636]\n",
            " [  1675   2062]]\n",
            "\n",
            "\n",
            "              precision    recall  f1-score   support\n",
            "\n",
            "           0       0.99      1.00      0.99    151391\n",
            "           1       0.76      0.55      0.64      3737\n",
            "\n",
            "    accuracy                           0.99    155128\n",
            "   macro avg       0.88      0.77      0.82    155128\n",
            "weighted avg       0.98      0.99      0.98    155128\n",
            "\n"
          ],
          "name": "stdout"
        },
        {
          "output_type": "display_data",
          "data": {
            "image/png": "[encoded data removed]",
            "text/plain": [
              "<Figure size 432x288 with 2 Axes>"
            ]
          },
          "metadata": {
            "tags": [],
            "needs_background": "light"
          }
        }
      ]
    },
    {
      "cell_type": "code",
      "metadata": {
        "id": "IDl3mJ05k0Rb"
      },
      "source": [
        "'''#NAIVE  BAYES\n",
        "import time\n",
        "start=time.time()\n",
        "import sklearn.metrics as metrics\n",
        "from sklearn.naive_bayes import GaussianNB\n",
        "naive=GaussianNB()\n",
        "naive.fit(X_train.todense(),y_train)\n",
        "y_pred = naive.predict(X_test)\n",
        "print(\"'NAIVE-BAYES-ACCURACY => \"+str(metrics.accuracy_score(y_test, y_pred)*100)+str(\" %\"))\n",
        "end=time.time()\n",
        "print(\"Time=\",end-start)\n",
        "\n",
        "#CLASSIFICATION REPORT\n",
        "from sklearn.metrics import classification_report,confusion_matrix\n",
        "#CONFUSION MATRIX\n",
        "print(confusion_matrix(y_test,y_pred))\n",
        "print('\\n')\n",
        "print(classification_report(y_test,y_pred))'''"
      ],
      "execution_count": null,
      "outputs": []
    },
    {
      "cell_type": "code",
      "metadata": {
        "colab": {
          "base_uri": "https://localhost:8080/",
          "height": 548
        },
        "id": "lcSw259IrWu8",
        "outputId": "95a7ace6-612a-4ad0-ad88-60204bed390a"
      },
      "source": [
        "#logistic regression\n",
        "import time\n",
        "start=time.time()\n",
        "from sklearn import linear_model\n",
        "from sklearn import metrics\n",
        "log=linear_model.LogisticRegression()\n",
        "\n",
        "\n",
        "log.fit(X_train,y_train)\n",
        "y_pred=(log.predict(X_test))\n",
        "print(\"LOGISTIC-REGRESSION-ACCURACY => \"+str(metrics.accuracy_score(y_test, y_pred)*100)+str(\" %\"))\n",
        "end=time.time()\n",
        "print(\"time=\",end-start)\n",
        "#CLASSIFICATION REPORT\n",
        "from sklearn.metrics import classification_report,confusion_matrix\n",
        "#CONFUSION MATRIX\n",
        "print(confusion_matrix(y_test,y_pred))\n",
        "print('\\n')\n",
        "print(classification_report(y_test,y_pred))\n",
        "\n",
        "#Plot confusion_matrix\n",
        "labels = ['0', '1']\n",
        "fig = plt.figure()\n",
        "ax = fig.add_subplot(111)\n",
        "cax = ax.matshow(confusion_matrix(y_test,y_pred))\n",
        "plt.title('Confusion matrix of the classifier')\n",
        "fig.colorbar(cax)\n",
        "ax.set_xticklabels([''] + labels)\n",
        "ax.set_yticklabels([''] + labels)\n",
        "plt.xlabel('Predicted')\n",
        "plt.ylabel('True')\n",
        "plt.show()"
      ],
      "execution_count": 7,
      "outputs": [
        {
          "output_type": "stream",
          "text": [
            "LOGISTIC-REGRESSION-ACCURACY => 98.47803104533031 %\n",
            "time= 2.3887245655059814\n",
            "[[151307     84]\n",
            " [  2277   1460]]\n",
            "\n",
            "\n",
            "              precision    recall  f1-score   support\n",
            "\n",
            "           0       0.99      1.00      0.99    151391\n",
            "           1       0.95      0.39      0.55      3737\n",
            "\n",
            "    accuracy                           0.98    155128\n",
            "   macro avg       0.97      0.70      0.77    155128\n",
            "weighted avg       0.98      0.98      0.98    155128\n",
            "\n"
          ],
          "name": "stdout"
        },
        {
          "output_type": "display_data",
          "data": {
            "image/png": "[encoded data removed]",
            "text/plain": [
              "<Figure size 432x288 with 2 Axes>"
            ]
          },
          "metadata": {
            "tags": [],
            "needs_background": "light"
          }
        }
      ]
    },
    {
      "cell_type": "code",
      "metadata": {
        "colab": {
          "base_uri": "https://localhost:8080/",
          "height": 548
        },
        "id": "1UiqkSRstkez",
        "outputId": "43858027-558c-4d05-949b-71a8e117f158"
      },
      "source": [
        "#two hidden layers\n",
        "\n",
        "import time\n",
        "start=time.time()\n",
        "\n",
        "from sklearn.neural_network import MLPClassifier\n",
        "mlp= MLPClassifier(hidden_layer_sizes=(8,8), activation='relu', solver='adam',max_iter=200)\n",
        "mlp.fit(X_train,y_train)\n",
        "y_pred=(mlp.predict(X_test))\n",
        "print(\"MLP-ACCURACY => \"+str(metrics.accuracy_score(y_test, y_pred)*100)+str(\" %\"))\n",
        "end=time.time()\n",
        "print(\"time=\"+str(end-start))\n",
        "\n",
        "#CLASSIFICATION REPORT\n",
        "from sklearn.metrics import classification_report,confusion_matrix\n",
        "#CONFUSION MATRIX\n",
        "print(confusion_matrix(y_test,y_pred))\n",
        "print('\\n')\n",
        "print(classification_report(y_test,y_pred))\n",
        "\n",
        "#Plot confusion_matrix\n",
        "labels = ['0', '1']\n",
        "fig = plt.figure()\n",
        "ax = fig.add_subplot(111)\n",
        "cax = ax.matshow(confusion_matrix(y_test,y_pred))\n",
        "plt.title('Confusion matrix of the classifier')\n",
        "fig.colorbar(cax)\n",
        "ax.set_xticklabels([''] + labels)\n",
        "ax.set_yticklabels([''] + labels)\n",
        "plt.xlabel('Predicted')\n",
        "plt.ylabel('True')\n",
        "plt.show()"
      ],
      "execution_count": 9,
      "outputs": [
        {
          "output_type": "stream",
          "text": [
            "MLP-ACCURACY => 98.52766747460163 %\n",
            "time=196.18487906455994\n",
            "[[150789    602]\n",
            " [  1682   2055]]\n",
            "\n",
            "\n",
            "              precision    recall  f1-score   support\n",
            "\n",
            "           0       0.99      1.00      0.99    151391\n",
            "           1       0.77      0.55      0.64      3737\n",
            "\n",
            "    accuracy                           0.99    155128\n",
            "   macro avg       0.88      0.77      0.82    155128\n",
            "weighted avg       0.98      0.99      0.98    155128\n",
            "\n"
          ],
          "name": "stdout"
        },
        {
          "output_type": "display_data",
          "data": {
            "image/png": "[encoded data removed]",
            "text/plain": [
              "<Figure size 432x288 with 2 Axes>"
            ]
          },
          "metadata": {
            "tags": [],
            "needs_background": "light"
          }
        }
      ]
    },
    {
      "cell_type": "code",
      "metadata": {
        "colab": {
          "base_uri": "https://localhost:8080/",
          "height": 548
        },
        "id": "Voi-4-zmvfyc",
        "outputId": "52a08977-f4ad-4ed7-a51d-f0f78c87a98d"
      },
      "source": [
        "import time\n",
        "start=time.time()\n",
        "from sklearn.ensemble import AdaBoostClassifier\n",
        "abc = AdaBoostClassifier()\n",
        "\n",
        "# Train Adaboost Classifer\n",
        "model = abc.fit(X_train, y_train)\n",
        "y_pred = model.predict(X_test)\n",
        "\n",
        "print(\"Adaboost-ACCURACY => \"+str(metrics.accuracy_score(y_test, y_pred)*100)+str(\" %\"))\n",
        "end=time.time()\n",
        "print(\"time=\"+str(end-start))\n",
        "\n",
        "\n",
        "#CLASSIFICATION REPORT\n",
        "from sklearn.metrics import classification_report,confusion_matrix\n",
        "#CONFUSION MATRIX\n",
        "print(confusion_matrix(y_test,y_pred))\n",
        "print('\\n')\n",
        "print(classification_report(y_test,y_pred))\n",
        "\n",
        "#Plot confusion_matrix\n",
        "labels = ['0', '1']\n",
        "fig = plt.figure()\n",
        "ax = fig.add_subplot(111)\n",
        "cax = ax.matshow(confusion_matrix(y_test,y_pred))\n",
        "plt.title('Confusion matrix of the classifier')\n",
        "fig.colorbar(cax)\n",
        "ax.set_xticklabels([''] + labels)\n",
        "ax.set_yticklabels([''] + labels)\n",
        "plt.xlabel('Predicted')\n",
        "plt.ylabel('True')\n",
        "plt.show()"
      ],
      "execution_count": 10,
      "outputs": [
        {
          "output_type": "stream",
          "text": [
            "Adaboost-ACCURACY => 98.44708885565468 %\n",
            "time=21.593843936920166\n",
            "[[151043    348]\n",
            " [  2061   1676]]\n",
            "\n",
            "\n",
            "              precision    recall  f1-score   support\n",
            "\n",
            "           0       0.99      1.00      0.99    151391\n",
            "           1       0.83      0.45      0.58      3737\n",
            "\n",
            "    accuracy                           0.98    155128\n",
            "   macro avg       0.91      0.72      0.79    155128\n",
            "weighted avg       0.98      0.98      0.98    155128\n",
            "\n"
          ],
          "name": "stdout"
        },
        {
          "output_type": "display_data",
          "data": {
            "image/png": "[encoded data removed]",
            "text/plain": [
              "<Figure size 432x288 with 2 Axes>"
            ]
          },
          "metadata": {
            "tags": [],
            "needs_background": "light"
          }
        }
      ]
    },
    {
      "cell_type": "code",
      "metadata": {
        "colab": {
          "base_uri": "https://localhost:8080/",
          "height": 738
        },
        "id": "xK4WP9-qv_IH",
        "outputId": "a99224e3-fab9-4e21-931c-67a5433caf7c"
      },
      "source": [
        "#DECISION TREE\n",
        "print(\"******************DECISION TREE***********************\\n\")\n",
        "import time\n",
        "Start = time.time ()\n",
        "from sklearn.tree import DecisionTreeClassifier \n",
        "Decision_tree= DecisionTreeClassifier(criterion = 'gini') \n",
        "Decision_tree.fit(X_train, y_train)\n",
        "Y_pred = Decision_tree.predict(X_test) \n",
        "print(\"Predicted Value :\")\n",
        "print(Y_pred)\n",
        "    \n",
        "print(\"\\nConfusion Matrix : model evaluation\")\n",
        "from sklearn.metrics import confusion_matrix\n",
        "print(confusion_matrix(y_test, Y_pred))\n",
        "    \n",
        "print(\"\\n Classification report :\")\n",
        "from sklearn.metrics import classification_report\n",
        "print(classification_report(y_test, Y_pred))\n",
        "    \n",
        "print(\"\\nDecision Tree Accuracy : \")\n",
        "from sklearn import metrics\n",
        "print((metrics.accuracy_score(y_test, Y_pred))*100)\n",
        "a2=(metrics.accuracy_score(y_test, Y_pred))*100\n",
        "end= time.time()\n",
        "b2=str(round(end-Start,2))\n",
        "print(b2)\n",
        "\n",
        "print(\"\\n\\n\")\n",
        "\n",
        "\n",
        "#Plot confusion_matrix\n",
        "labels = ['0', '1']\n",
        "fig = plt.figure()\n",
        "ax = fig.add_subplot(111)\n",
        "cax = ax.matshow(confusion_matrix(y_test,y_pred))\n",
        "plt.title('Confusion matrix of the classifier')\n",
        "fig.colorbar(cax)\n",
        "ax.set_xticklabels([''] + labels)\n",
        "ax.set_yticklabels([''] + labels)\n",
        "plt.xlabel('Predicted')\n",
        "plt.ylabel('True')\n",
        "plt.show()"
      ],
      "execution_count": 11,
      "outputs": [
        {
          "output_type": "stream",
          "text": [
            "******************DECISION TREE***********************\n",
            "\n",
            "Predicted Value :\n",
            "[0 1 0 ... 0 0 0]\n",
            "\n",
            "Confusion Matrix : model evaluation\n",
            "[[149762   1629]\n",
            " [  2226   1511]]\n",
            "\n",
            " Classification report :\n",
            "              precision    recall  f1-score   support\n",
            "\n",
            "           0       0.99      0.99      0.99    151391\n",
            "           1       0.48      0.40      0.44      3737\n",
            "\n",
            "    accuracy                           0.98    155128\n",
            "   macro avg       0.73      0.70      0.71    155128\n",
            "weighted avg       0.97      0.98      0.97    155128\n",
            "\n",
            "\n",
            "Decision Tree Accuracy : \n",
            "97.51495539167655\n",
            "18.42\n",
            "\n",
            "\n",
            "\n"
          ],
          "name": "stdout"
        },
        {
          "output_type": "display_data",
          "data": {
            "image/png": "[encoded data removed]",
            "text/plain": [
              "<Figure size 432x288 with 2 Axes>"
            ]
          },
          "metadata": {
            "tags": [],
            "needs_background": "light"
          }
        }
      ]
    },
    {
      "cell_type": "code",
      "metadata": {
        "id": "VPV8foMzCWxu"
      },
      "source": [
        "'''# Import necessary modules \n",
        "import pandas as pd\n",
        "from matplotlib import pyplot as plt\n",
        "from sklearn.svm import SVC\n",
        "from sklearn.model_selection import train_test_split\n",
        "from sklearn import metrics \n",
        "from sklearn.metrics import classification_report, confusion_matrix\n",
        "# Load data \n",
        "data = pd. read_csv('diabetes.csv')\n",
        "print(data.shape)\n",
        "print (\"sampe data\")\n",
        "print(data.head())\n",
        "# Create feature and target arrays \n",
        "labels=data['Outcome']\n",
        "features=data.drop(['Outcome'],axis=1)\n",
        "print (list(features))\n",
        "X=features.values\n",
        "y=labels.values\n",
        "# Split into training and test set \n",
        "X_train, X_test, y_train, y_test = train_test_split(X, y, test_size=0.33,random_state=10)\n",
        "#Import SVM model\n",
        "svclassifier = SVC(kernel='linear')\n",
        "#Create a SVM Classifier\n",
        "svclassifier.fit(X_train, y_train)\n",
        "#Train the model using the training sets\n",
        "y_pred = svclassifier.predict(X_test)\n",
        "# Model Accuracy\n",
        "print(\"Accuracy:\",metrics.accuracy_score(y_test, y_pred))\n",
        "\n",
        "#Model Evaluation: Compute classification_report and  confusion_matrix\n",
        "print(confusion_matrix(y_test,y_pred))\n",
        "print(classification_report(y_test,y_pred))\n",
        "\n",
        "#Plot confusion_matrix\n",
        "labels = ['0', '1']\n",
        "fig = plt.figure()\n",
        "ax = fig.add_subplot(111)\n",
        "cax = ax.matshow(confusion_matrix(y_test,y_pred))\n",
        "plt.title('Confusion matrix of the classifier')\n",
        "fig.colorbar(cax)\n",
        "ax.set_xticklabels([''] + labels)\n",
        "ax.set_yticklabels([''] + labels)\n",
        "plt.xlabel('Predicted')\n",
        "plt.ylabel('True')\n",
        "plt.show()'''"
      ],
      "execution_count": null,
      "outputs": []
    }
  ]
}